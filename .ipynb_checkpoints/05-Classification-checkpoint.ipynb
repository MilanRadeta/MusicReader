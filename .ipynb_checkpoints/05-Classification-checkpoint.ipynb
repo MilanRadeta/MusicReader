{
 "cells": [
  {
   "cell_type": "markdown",
   "metadata": {},
   "source": [
    "# Classification"
   ]
  },
  {
   "cell_type": "markdown",
   "metadata": {},
   "source": [
    "Continuation of Segmentation process in which musical primitives found via Morphological Operations and Template Matching."
   ]
  },
  {
   "cell_type": "code",
   "execution_count": 1,
   "metadata": {
    "collapsed": false
   },
   "outputs": [],
   "source": [
    "%matplotlib inline\n",
    "import cv2\n",
    "import matplotlib.pyplot as plt\n",
    "import numpy as np\n",
    "\n",
    "# Image loading, binarization, inversion and display\n",
    "def load_image(path):\n",
    "    return cv2.cvtColor(cv2.imread(path), cv2.COLOR_BGR2RGB)\n",
    "def image_gray(image):\n",
    "    return cv2.cvtColor(image, cv2.COLOR_RGB2GRAY)\n",
    "def image_bin_otsu(image_gs):\n",
    "    ret,image_bin = cv2.threshold(image_gs, 0, 255, cv2.THRESH_BINARY+cv2.THRESH_OTSU)\n",
    "    return image_bin\n",
    "def invert(image):\n",
    "    return 255-image\n",
    "def display_image(image, color= False):\n",
    "    plt.figure()\n",
    "    if color:\n",
    "        plt.imshow(image)\n",
    "    else:\n",
    "        plt.imshow(image, 'gray')\n",
    "    plt.show()\n",
    "    \n",
    "# Image morphological operations\n",
    "def dilate(image, kernel, iterations = 1):\n",
    "    return cv2.dilate(image, kernel, iterations)\n",
    "def erode(image, kernel, iterations = 1):\n",
    "    return cv2.erode(image, kernel, iterations)\n",
    "def open_image(image, kernel = None):\n",
    "    if kernel is None:\n",
    "        kernel = np.ones((1, 100))\n",
    "    return dilate(erode(image, kernel), kernel)\n",
    "\n",
    "# Horizontal projection\n",
    "def horizontal_projection(image):\n",
    "    hor_proj = []\n",
    "    for i in range(len(image)):\n",
    "        row_sum = 0\n",
    "        for j in range(len(image[i])):\n",
    "            row_sum += image[i][j] == 255\n",
    "        hor_proj.append([255] * row_sum + [0] * (len(image[0]) - row_sum))\n",
    "\n",
    "    return hor_proj\n",
    "\n",
    "# Image crop\n",
    "def crop_image(image, crop_start = None, crop_width = None):\n",
    "    if crop_width is None:\n",
    "        crop_width = len(image[0]) // 10\n",
    "        \n",
    "    if crop_start is None:\n",
    "        end = 0\n",
    "        for row in image:\n",
    "            s = sum(row) / 255\n",
    "            if s > end:\n",
    "                end = s\n",
    "\n",
    "        crop_start = end - crop_width\n",
    "        \n",
    "    cutoff = image[:]\n",
    "    \n",
    "    for i in range(len(cutoff)):\n",
    "        cutoff[i] = cutoff[i][crop_start : crop_start + crop_width] \n",
    "\n",
    "    cutoff = np.array(cutoff, dtype = np.uint8)\n",
    "    return cutoff\n",
    "\n",
    "# Find Y coordinates of white pixels\n",
    "def find_y(image):\n",
    "    y = []\n",
    "    for i in range(len(image)):\n",
    "        for j in range(len(image[i])):\n",
    "            if (image[i][j] == 255) and (i not in y):\n",
    "                y.append(i)\n",
    "    return sorted(y)\n",
    "\n",
    "# Intersect two lists\n",
    "def intersect_lists(first, second):\n",
    "    ret_val = []\n",
    "    for val in first:\n",
    "        if val in second:\n",
    "            ret_val += [val]\n",
    "    return ret_val\n",
    "\n",
    "# Group points and get distances\n",
    "def label_y(y_list):\n",
    "    labels = [[]]\n",
    "    line_distances = []\n",
    "    prev_y = None\n",
    "    for y in y_list:\n",
    "        if prev_y is not None:\n",
    "            if y - prev_y > 1:\n",
    "                labels.append([])\n",
    "                line_distances += [y - prev_y]\n",
    "        labels[-1] += [y]\n",
    "        prev_y = y\n",
    "    return labels, line_distances\n",
    "\n",
    "# Find lines\n",
    "def find_lines(image):\n",
    "    first = find_y(crop_image(horizontal_projection(image)))\n",
    "    second = find_y(open_image(image))\n",
    "    \n",
    "    \n",
    "    lines, distances = label_y(intersect_lists(first, second))\n",
    "    staff_spacings = [distances[i] for i in range(len(distances)) if (i+1) % 5 != 0 ]\n",
    "    staff_spacing = sum(staff_spacings) * 1./len(staff_spacings)\n",
    "    return lines, distances, staff_spacing\n",
    "\n",
    "# Remove lines\n",
    "def remove_lines(org_image, tolerance = 0, lines = None, topBotPixelRemoval = True, widthBasedRemoval = True):\n",
    "    image = org_image.copy()\n",
    "    \n",
    "    if lines == None:\n",
    "        lines, distances, staff_spacing = find_lines(org_image)\n",
    "    \n",
    "    if topBotPixelRemoval:\n",
    "        for line in lines:\n",
    "            top = line[0]\n",
    "            bot = line[-1]\n",
    "            for j in range(len(image[top])):\n",
    "                remove = True\n",
    "                is_line = False\n",
    "                for row in image[top:bot+1]:\n",
    "                    if row[j] == 255:\n",
    "                        is_line = True\n",
    "                        break\n",
    "                if not is_line:\n",
    "                    continue\n",
    "                # check 2 pixels above and below\n",
    "                diff = 2\n",
    "                for row in image[top - diff : top]:\n",
    "                    if row[j] == 255:\n",
    "                        remove = False\n",
    "                        break\n",
    "                if remove:\n",
    "                    for row in image[bot + 1: bot + diff + 1]:\n",
    "                        if row[j] == 255:\n",
    "                            remove = False\n",
    "                            break\n",
    "                if remove:\n",
    "                    for row in image[top:bot+1]:\n",
    "                        row[j] = 0\n",
    "    \n",
    "    if widthBasedRemoval:\n",
    "        avg_thickness = lines[:]\n",
    "        for i, line in enumerate(avg_thickness):\n",
    "            avg_thickness[i] = len(line)\n",
    "        avg_thickness = sum(avg_thickness) * 1./len(avg_thickness)\n",
    "\n",
    "        for j in range(len(image[0])):\n",
    "            white = False\n",
    "            for i in range(len(image)):\n",
    "                if image[i][j] == 255:\n",
    "                    if not white:\n",
    "                        start = i\n",
    "                    white = True\n",
    "                else:\n",
    "                    if white:\n",
    "                        thickness = i - start\n",
    "                        if thickness <= (avg_thickness + tolerance):\n",
    "                            for row in image[start : i]:\n",
    "                                row[j] = 0\n",
    "                    white = False\n",
    "    return image\n",
    "\n",
    "def add_region(image, row, col, regions):\n",
    "    coords = [(row, col)]\n",
    "    idx = 0\n",
    "    while (idx < len(coords)):\n",
    "        row, col = coords[idx]\n",
    "        for dr in range(-1,2):\n",
    "            for dc in range(-1,2):\n",
    "                r = row + dr\n",
    "                c = col + dc\n",
    "                if r >= 0 and c >= 0 and r < len(image) and c < len(image[r]):\n",
    "                    if image[r][c] == 255 and ((r,c) not in coords):\n",
    "                        for region in regions:\n",
    "                            if (r,c) in region:\n",
    "                                for coord in coords:\n",
    "                                    region.append((r,c))\n",
    "                                    return\n",
    "                        coords += [(r,c)]\n",
    "        idx += 1\n",
    "    regions.append(coords)\n",
    "\n",
    "def find_vertical_lines(image):\n",
    "    # Find lines, distances\n",
    "    lines, distances, staff_spacing = find_lines(image)\n",
    "\n",
    "    # Find vertical objects\n",
    "    img_open = open_image(remove_lines(image), np.ones((1.5 * staff_spacing, 1)))\n",
    "    return img_open\n",
    "\n",
    "def find_regions(org_image, ref_image = None):\n",
    "    if ref_image is None:\n",
    "        ref_image = org_image\n",
    "    # Label regions of interest\n",
    "    regions = []\n",
    "    for row in range(len(ref_image)):\n",
    "        for col in range(len(ref_image[row])):\n",
    "            if ref_image[row][col] == 255:\n",
    "                isFound = False\n",
    "                for region in regions:\n",
    "                    if (row,col) in region:\n",
    "                        isFound = True\n",
    "                        break\n",
    "                if not isFound:\n",
    "                    add_region(org_image, row, col, regions)\n",
    "    \n",
    "    img_regions = org_image.copy()\n",
    "    for row in range(len(img_regions)):\n",
    "        for col in range(len(img_regions[row])):\n",
    "            img_regions[row][col] = 0\n",
    "\n",
    "    for region in regions:\n",
    "        for row, col in region:\n",
    "            img_regions[row, col] = 255\n",
    "            \n",
    "    return img_regions, regions\n",
    "\n",
    "def find_vertical_objects(image, image_vert_lines):\n",
    "    return find_regions(image, image_vert_lines)\n",
    "\n",
    "def split_image(image, regions):\n",
    "    split_images = []\n",
    "    for region in regions:\n",
    "        minr = min([r for r,c in region])\n",
    "        maxr = max([r for r,c in region])\n",
    "        minc = min([c for r,c in region])\n",
    "        maxc = max([c for r,c in region])\n",
    "        sub_image = []\n",
    "        for row in range(minr,maxr+1):\n",
    "            sub_image.append([])\n",
    "            for col in range(minc,maxc+1):\n",
    "                sub_image[-1] += [image[row][col]]\n",
    "        sub_image = np.array(sub_image)\n",
    "        sub_image = np.uint8(sub_image)\n",
    "        split_images.append(sub_image)\n",
    "    return split_images"
   ]
  },
  {
   "cell_type": "code",
   "execution_count": 2,
   "metadata": {
    "collapsed": false
   },
   "outputs": [
    {
     "data": {
      "image/png": "[encoded data removed]",
      "text/plain": [
       "<matplotlib.figure.Figure at 0x3c47588>"
      ]
     },
     "metadata": {},
     "output_type": "display_data"
    }
   ],
   "source": [
    "org_image = load_image(\"test_images/staff-with-notes.jpg\")\n",
    "img_gray = image_gray(org_image)\n",
    "img_otsu = image_bin_otsu(img_gray)\n",
    "inv_img = invert(img_otsu)\n",
    "img_wo_lines = remove_lines(inv_img)\n",
    "display_image(img_wo_lines)"
   ]
  },
  {
   "cell_type": "markdown",
   "metadata": {
    "collapsed": false
   },
   "source": [
    "We find the vertical objects."
   ]
  },
  {
   "cell_type": "code",
   "execution_count": 5,
   "metadata": {
    "collapsed": false
   },
   "outputs": [
    {
     "data": {
      "image/png": "[encoded data removed]",
      "text/plain": [
       "<matplotlib.figure.Figure at 0x3bc04e0>"
      ]
     },
     "metadata": {},
     "output_type": "display_data"
    }
   ],
   "source": [
    "img_vert_lines = find_vertical_lines(inv_img)\n",
    "display_image(img_vert_lines)"
   ]
  },
  {
   "cell_type": "code",
   "execution_count": 6,
   "metadata": {
    "collapsed": false
   },
   "outputs": [
    {
     "data": {
      "image/png": "[encoded data removed]",
      "text/plain": [
       "<matplotlib.figure.Figure at 0x11249278>"
      ]
     },
     "metadata": {},
     "output_type": "display_data"
    },
    {
     "name": "stdout",
     "output_type": "stream",
     "text": [
      "Number of recognized objects: 9\n"
     ]
    }
   ],
   "source": [
    "img_vert_objects, regions = find_vertical_objects(img_wo_lines, img_vert_lines)\n",
    "display_image(img_vert_objects)\n",
    "print(\"Number of recognized objects: %s\" % len(regions))"
   ]
  },
  {
   "cell_type": "markdown",
   "metadata": {},
   "source": [
    "Several templates will be used to find vertical objects. Only ones present in the current image are G-clef and filled note heads. We will focus on G-clef first."
   ]
  },
  {
   "cell_type": "markdown",
   "metadata": {},
   "source": [
    "## G-clef\n",
    "In this section, we will try to recognize G-clef by comparing it with templates of it."
   ]
  },
  {
   "cell_type": "code",
   "execution_count": 7,
   "metadata": {
    "collapsed": false
   },
   "outputs": [
    {
     "data": {
      "image/png": "[encoded data removed]",
      "text/plain": [
       "<matplotlib.figure.Figure at 0x11be1390>"
      ]
     },
     "metadata": {},
     "output_type": "display_data"
    }
   ],
   "source": [
    "objects = split_image(img_vert_objects, regions)\n",
    "display_image(objects[0])"
   ]
  },
  {
   "cell_type": "markdown",
   "metadata": {},
   "source": [
    "Templates for G-clef are searched through the <i>templates</i> folder."
   ]
  },
  {
   "cell_type": "code",
   "execution_count": 10,
   "metadata": {
    "collapsed": false
   },
   "outputs": [
    {
     "name": "stdout",
     "output_type": "stream",
     "text": [
      "['templates/clefs/g_clef_01.jpg', 'templates/clefs/g_clef_02.jpg', 'templates/clefs/g_clef_03.jpg', 'templates/clefs/g_clef_04.jpg']\n"
     ]
    }
   ],
   "source": [
    "from os import listdir\n",
    "from os.path import isdir\n",
    "g_clef_templates = []\n",
    "\n",
    "vertFile = \"clefs/g_clef\"\n",
    "split = vertFile.split('/')\n",
    "for listedFile in listdir(\"templates\"):\n",
    "    if listedFile == split[0]:\n",
    "        for innerFile in listdir(\"templates/%s\" % listedFile):\n",
    "            if len(split) == 1 or innerFile.startswith(split[1]):\n",
    "                g_clef_templates += [\"templates/%s/%s\" % (listedFile, innerFile)]\n",
    "\n",
    "print(g_clef_templates)"
   ]
  },
  {
   "cell_type": "markdown",
   "metadata": {},
   "source": [
    "Next, we try to resize the templates so their size is equal to vertical objects bounding box."
   ]
  },
  {
   "cell_type": "code",
   "execution_count": 11,
   "metadata": {
    "collapsed": false
   },
   "outputs": [
    {
     "name": "stdout",
     "output_type": "stream",
     "text": [
      "Original template\n"
     ]
    },
    {
     "data": {
      "image/png": "[encoded data removed]",
      "text/plain": [
       "<matplotlib.figure.Figure at 0x11c7da20>"
      ]
     },
     "metadata": {},
     "output_type": "display_data"
    },
    {
     "name": "stdout",
     "output_type": "stream",
     "text": [
      "Resized template\n"
     ]
    },
    {
     "data": {
      "image/png": "[encoded data removed]",
      "text/plain": [
       "<matplotlib.figure.Figure at 0x11a6eba8>"
      ]
     },
     "metadata": {},
     "output_type": "display_data"
    },
    {
     "name": "stdout",
     "output_type": "stream",
     "text": [
      "Processed template\n"
     ]
    },
    {
     "data": {
      "image/png": "[encoded data removed]",
      "text/plain": [
       "<matplotlib.figure.Figure at 0x3e03080>"
      ]
     },
     "metadata": {},
     "output_type": "display_data"
    }
   ],
   "source": [
    "def resize_image(tmp_img, new_width, new_height):\n",
    "    return cv2.resize(tmp_img, (int(round(new_width)), int(round(new_height))), interpolation = cv2.INTER_CUBIC)\n",
    "\n",
    "g_clef = objects[0]\n",
    "g_clef_height, g_clef_width = g_clef.shape[:2]\n",
    "\n",
    "for template in g_clef_templates:\n",
    "    print(\"Original template\")\n",
    "    tmp_img = load_image(template)\n",
    "    display_image(tmp_img)\n",
    "    height, width = tmp_img.shape[:2]\n",
    "    tmp_img = resize_image(tmp_img, g_clef_width, g_clef_height)\n",
    "    print(\"Resized template\")\n",
    "    display_image(tmp_img)\n",
    "    tmp_img = image_gray(tmp_img)\n",
    "    tmp_img = image_bin_otsu(tmp_img)\n",
    "    tmp_img = invert(tmp_img)\n",
    "    print(\"Processed template\")\n",
    "    display_image(tmp_img)\n",
    "    break"
   ]
  },
  {
   "cell_type": "markdown",
   "metadata": {},
   "source": [
    "And finally, we compare the segmented object with templates. This is done by comparing each corresponding pixels."
   ]
  },
  {
   "cell_type": "code",
   "execution_count": 12,
   "metadata": {
    "collapsed": false
   },
   "outputs": [
    {
     "name": "stdout",
     "output_type": "stream",
     "text": [
      "Template matching: templates/clefs/g_clef_01.jpg\n",
      "match: 76%\n",
      "Template matching: templates/clefs/g_clef_02.jpg\n",
      "match: 84%\n",
      "Template matching: templates/clefs/g_clef_03.jpg\n",
      "match: 81%\n",
      "Template matching: templates/clefs/g_clef_04.jpg\n",
      "match: 73%\n"
     ]
    }
   ],
   "source": [
    "g_clef = objects[0]\n",
    "g_clef_height, g_clef_width = g_clef.shape[:2]\n",
    "for template in g_clef_templates:\n",
    "    print(\"Template matching: %s\" % template)\n",
    "    template_name = template\n",
    "    # Template Image Processing\n",
    "    template = load_image(template)\n",
    "    template = resize_image(template,g_clef_width,g_clef_height)\n",
    "    template = image_gray(template)\n",
    "    template = image_bin_otsu(template)\n",
    "    template = invert(template)\n",
    "    match = 0\n",
    "    for row in range(len(template)):\n",
    "        for col in range(len(template[row])):\n",
    "            match += 1 if g_clef[row][col] == template[row][col] else 0\n",
    "                \n",
    "                \n",
    "    # Normalize\n",
    "    match *= 1./(g_clef_width * g_clef_height)\n",
    "    print(\"match: %d%%\" % (match*100))\n",
    "            "
   ]
  },
  {
   "cell_type": "markdown",
   "metadata": {},
   "source": [
    "G-clef was recognized fairly good so it can be removed from the segmented image."
   ]
  },
  {
   "cell_type": "code",
   "execution_count": 13,
   "metadata": {
    "collapsed": false
   },
   "outputs": [
    {
     "data": {
      "image/png": "[encoded data removed]",
      "text/plain": [
       "<matplotlib.figure.Figure at 0x11ba16d8>"
      ]
     },
     "metadata": {},
     "output_type": "display_data"
    },
    {
     "name": "stdout",
     "output_type": "stream",
     "text": [
      "8\n"
     ]
    }
   ],
   "source": [
    "for value in regions[0]:\n",
    "    img_vert_objects[value[0]][value[1]] = 0\n",
    "display_image(img_vert_objects)\n",
    "regions.remove(regions[0])\n",
    "objects.remove(objects[0])\n",
    "print(len(regions))"
   ]
  },
  {
   "cell_type": "markdown",
   "metadata": {},
   "source": [
    "## Note heads\n",
    "While researching and experimenting with this part of the project I found out several different methods, each representing an improvement of the previous."
   ]
  },
  {
   "cell_type": "markdown",
   "metadata": {},
   "source": [
    "First, let's load the templates."
   ]
  },
  {
   "cell_type": "code",
   "execution_count": 16,
   "metadata": {
    "collapsed": false
   },
   "outputs": [
    {
     "name": "stdout",
     "output_type": "stream",
     "text": [
      "['templates/note_heads/filled_01.jpg', 'templates/note_heads/filled_02.jpg', 'templates/note_heads/filled_03.jpg', 'templates/note_heads/filled_04.jpg', 'templates/note_heads/filled_05.jpg', 'templates/note_heads/filled_06.jpg', 'templates/note_heads/filled_07.jpg']\n"
     ]
    }
   ],
   "source": [
    "# for each segmented note do the template match with filled note head\n",
    "# template image should be resized so its width is equal to the staff spacing\n",
    "\n",
    "def search_for_templates(vertFile):\n",
    "    templates = []\n",
    "    split = vertFile.split('/')\n",
    "    for listedFile in listdir(\"templates\"):\n",
    "        if listedFile == split[0]:\n",
    "            for innerFile in listdir(\"templates/%s\" % listedFile):\n",
    "                if len(split) == 1 or innerFile.startswith(split[1]):\n",
    "                    templates += [\"templates/%s/%s\" % (listedFile, innerFile)]\n",
    "    return templates\n",
    "\n",
    "filled_head_templates = search_for_templates(\"note_heads/filled\")\n",
    "print(filled_head_templates)"
   ]
  },
  {
   "cell_type": "markdown",
   "metadata": {},
   "source": [
    "Load template images and resize them so they fit the staff spacing."
   ]
  },
  {
   "cell_type": "code",
   "execution_count": 17,
   "metadata": {
    "collapsed": false
   },
   "outputs": [
    {
     "name": "stdout",
     "output_type": "stream",
     "text": [
      "24.5\n"
     ]
    }
   ],
   "source": [
    "lines, distances, staff_spacing = find_lines(inv_img)\n",
    "print(staff_spacing)\n",
    "templates = {}\n",
    "for templateName in filled_head_templates:\n",
    "    template = load_image(templateName)\n",
    "    template = resize_image(template,staff_spacing,staff_spacing)\n",
    "    template = image_gray(template)\n",
    "    template = image_bin_otsu(template)\n",
    "    template = invert(template)\n",
    "    templates[templateName] = template"
   ]
  },
  {
   "cell_type": "markdown",
   "metadata": {},
   "source": [
    "### Method A: Search through whole regions"
   ]
  },
  {
   "cell_type": "markdown",
   "metadata": {},
   "source": [
    "Using this method, we take each segmented object (region) and search through it to find the note head(s). This is dones using the sliding window technique. Example is given below, used only on first segmented object and searching for only one candidate for filled note head."
   ]
  },
  {
   "cell_type": "code",
   "execution_count": 18,
   "metadata": {
    "collapsed": false
   },
   "outputs": [
    {
     "name": "stdout",
     "output_type": "stream",
     "text": [
      "Template matching: templates/note_heads/filled_06.jpg\n",
      "Template matching: templates/note_heads/filled_04.jpg\n",
      "Template matching: templates/note_heads/filled_02.jpg\n",
      "Template matching: templates/note_heads/filled_07.jpg\n",
      "Template matching: templates/note_heads/filled_05.jpg\n",
      "Template matching: templates/note_heads/filled_03.jpg\n",
      "Template matching: templates/note_heads/filled_01.jpg\n",
      "best match: 88%\n",
      "templateName: templates/note_heads/filled_02.jpg\n",
      "rows: 83 - 108\n",
      "cols: 0 - 25\n"
     ]
    }
   ],
   "source": [
    "note = objects[0]\n",
    "object_height, object_width = note.shape[:2]\n",
    "best_match = (None,(0,0),0)\n",
    "for templateName, template in templates.items():\n",
    "    print(\"Template matching: %s\" % templateName)\n",
    "    match_matrix = []\n",
    "    for row in range(object_height - len(template)):\n",
    "        match_matrix.append([])\n",
    "        for col in range(object_width - len(template[0])):\n",
    "            match = 0\n",
    "            for r in range(len(template)):\n",
    "                for c in range(len(template[r])):\n",
    "                    match += 1 if note[row + r ][col + c] == template[r][c] else 0\n",
    "            match *= 1./(len(template) * len(template[0]))\n",
    "            \n",
    "            match_matrix[-1] += [match]\n",
    "            if match > best_match[2]:\n",
    "                best_match = (templateName,(row,col),match)\n",
    "                \n",
    "# Normalize\n",
    "print(\"best match: %d%%\" % (best_match[2]*100))\n",
    "print(\"templateName: %s\" % best_match[0])\n",
    "print(\"rows: %s - %s\" % (best_match[1][0], best_match[1][0] + len(templates[best_match[0]])))\n",
    "print(\"cols: %s - %s\" % (best_match[1][1], best_match[1][1] + len(templates[best_match[0]][0])))\n"
   ]
  },
  {
   "cell_type": "code",
   "execution_count": 19,
   "metadata": {
    "collapsed": false
   },
   "outputs": [
    {
     "data": {
      "image/png": "[encoded data removed]",
      "text/plain": [
       "<matplotlib.figure.Figure at 0x11d3f2b0>"
      ]
     },
     "metadata": {},
     "output_type": "display_data"
    },
    {
     "data": {
      "image/png": "[encoded data removed]",
      "text/plain": [
       "<matplotlib.figure.Figure at 0x114dabe0>"
      ]
     },
     "metadata": {},
     "output_type": "display_data"
    },
    {
     "name": "stdout",
     "output_type": "stream",
     "text": [
      "height of segment: 25, width of segment: 34\n",
      "height of template: 25, width of template: 25\n"
     ]
    },
    {
     "data": {
      "image/png": "[encoded data removed]",
      "text/plain": [
       "<matplotlib.figure.Figure at 0x11d3fd68>"
      ]
     },
     "metadata": {},
     "output_type": "display_data"
    }
   ],
   "source": [
    "template = templates[best_match[0]]\n",
    "display_image(note)\n",
    "recognized_part = note[best_match[1][0]:][best_match[1][1]:best_match[1][1] + len(templates[best_match[0]][0])]\n",
    "display_image(recognized_part)\n",
    "\n",
    "print(\"height of segment: %s, width of segment: %s\" % (len(recognized_part), len(recognized_part[0])))\n",
    "print(\"height of template: %s, width of template: %s\" % (len(template), len(template[0])))\n",
    "display_image(template)"
   ]
  },
  {
   "cell_type": "markdown",
   "metadata": {},
   "source": [
    "We will try to match all the other segmented notes as well."
   ]
  },
  {
   "cell_type": "code",
   "execution_count": 20,
   "metadata": {
    "collapsed": false
   },
   "outputs": [
    {
     "name": "stdout",
     "output_type": "stream",
     "text": [
      "Template matching: templates/note_heads/filled_06.jpg\n",
      "Template matching: templates/note_heads/filled_04.jpg\n",
      "Template matching: templates/note_heads/filled_02.jpg\n",
      "Template matching: templates/note_heads/filled_07.jpg\n",
      "Template matching: templates/note_heads/filled_05.jpg\n",
      "Template matching: templates/note_heads/filled_03.jpg\n",
      "Template matching: templates/note_heads/filled_01.jpg\n",
      "best match: 88%\n",
      "templateName: templates/note_heads/filled_02.jpg\n",
      "rows: 83 - 108\n",
      "cols: 0 - 25\n",
      "Template matching: templates/note_heads/filled_06.jpg\n",
      "Template matching: templates/note_heads/filled_04.jpg\n",
      "Template matching: templates/note_heads/filled_02.jpg\n",
      "Template matching: templates/note_heads/filled_07.jpg\n",
      "Template matching: templates/note_heads/filled_05.jpg\n",
      "Template matching: templates/note_heads/filled_03.jpg\n",
      "Template matching: templates/note_heads/filled_01.jpg\n",
      "best match: 90%\n",
      "templateName: templates/note_heads/filled_02.jpg\n",
      "rows: 83 - 108\n",
      "cols: 0 - 25\n",
      "Template matching: templates/note_heads/filled_06.jpg\n",
      "Template matching: templates/note_heads/filled_04.jpg\n",
      "Template matching: templates/note_heads/filled_02.jpg\n",
      "Template matching: templates/note_heads/filled_07.jpg\n",
      "Template matching: templates/note_heads/filled_05.jpg\n",
      "Template matching: templates/note_heads/filled_03.jpg\n",
      "Template matching: templates/note_heads/filled_01.jpg\n",
      "best match: 88%\n",
      "templateName: templates/note_heads/filled_02.jpg\n",
      "rows: 1 - 26\n",
      "cols: 0 - 25\n",
      "Template matching: templates/note_heads/filled_06.jpg\n",
      "Template matching: templates/note_heads/filled_04.jpg\n",
      "Template matching: templates/note_heads/filled_02.jpg\n",
      "Template matching: templates/note_heads/filled_07.jpg\n",
      "Template matching: templates/note_heads/filled_05.jpg\n",
      "Template matching: templates/note_heads/filled_03.jpg\n",
      "Template matching: templates/note_heads/filled_01.jpg\n",
      "best match: 89%\n",
      "templateName: templates/note_heads/filled_05.jpg\n",
      "rows: 86 - 111\n",
      "cols: 0 - 25\n",
      "Template matching: templates/note_heads/filled_06.jpg\n",
      "Template matching: templates/note_heads/filled_04.jpg\n",
      "Template matching: templates/note_heads/filled_02.jpg\n",
      "Template matching: templates/note_heads/filled_07.jpg\n",
      "Template matching: templates/note_heads/filled_05.jpg\n",
      "Template matching: templates/note_heads/filled_03.jpg\n",
      "Template matching: templates/note_heads/filled_01.jpg\n",
      "best match: 89%\n",
      "templateName: templates/note_heads/filled_02.jpg\n",
      "rows: 4 - 29\n",
      "cols: 0 - 25\n",
      "Template matching: templates/note_heads/filled_06.jpg\n",
      "Template matching: templates/note_heads/filled_04.jpg\n",
      "Template matching: templates/note_heads/filled_02.jpg\n",
      "Template matching: templates/note_heads/filled_07.jpg\n",
      "Template matching: templates/note_heads/filled_05.jpg\n",
      "Template matching: templates/note_heads/filled_03.jpg\n",
      "Template matching: templates/note_heads/filled_01.jpg\n",
      "best match: 88%\n",
      "templateName: templates/note_heads/filled_02.jpg\n",
      "rows: 1 - 26\n",
      "cols: 0 - 25\n",
      "Template matching: templates/note_heads/filled_06.jpg\n",
      "Template matching: templates/note_heads/filled_04.jpg\n",
      "Template matching: templates/note_heads/filled_02.jpg\n",
      "Template matching: templates/note_heads/filled_07.jpg\n",
      "Template matching: templates/note_heads/filled_05.jpg\n",
      "Template matching: templates/note_heads/filled_03.jpg\n",
      "Template matching: templates/note_heads/filled_01.jpg\n",
      "best match: 88%\n",
      "templateName: templates/note_heads/filled_02.jpg\n",
      "rows: 3 - 28\n",
      "cols: 0 - 25\n",
      "Template matching: templates/note_heads/filled_06.jpg\n",
      "Template matching: templates/note_heads/filled_04.jpg\n",
      "Template matching: templates/note_heads/filled_02.jpg\n",
      "Template matching: templates/note_heads/filled_07.jpg\n",
      "Template matching: templates/note_heads/filled_05.jpg\n",
      "Template matching: templates/note_heads/filled_03.jpg\n",
      "Template matching: templates/note_heads/filled_01.jpg\n",
      "best match: 88%\n",
      "templateName: templates/note_heads/filled_02.jpg\n",
      "rows: 1 - 26\n",
      "cols: 0 - 25\n"
     ]
    }
   ],
   "source": [
    "def match_object(note):\n",
    "    object_height, object_width = note.shape[:2]\n",
    "    best_match = (None,(0,0),0)\n",
    "    for templateName, template in templates.items():\n",
    "        print(\"Template matching: %s\" % templateName)\n",
    "        match_matrix = []\n",
    "        for row in range(object_height - len(template)):\n",
    "            match_matrix.append([])\n",
    "            for col in range(object_width - len(template[0])):\n",
    "                match = 0\n",
    "                for r in range(len(template)):\n",
    "                    for c in range(len(template[r])):\n",
    "                        match += 1 if note[row + r ][col + c] == template[r][c] else 0\n",
    "                match *= 1./(len(template) * len(template[0]))\n",
    "\n",
    "                match_matrix[-1] += [match]\n",
    "                if match > best_match[2]:\n",
    "                    best_match = (templateName,(row,col),match)\n",
    "\n",
    "    # Normalize\n",
    "    print(\"best match: %d%%\" % (best_match[2]*100))\n",
    "    print(\"templateName: %s\" % best_match[0])\n",
    "    print(\"rows: %s - %s\" % (best_match[1][0], best_match[1][0] + len(templates[best_match[0]])))\n",
    "    print(\"cols: %s - %s\" % (best_match[1][1], best_match[1][1] + len(templates[best_match[0]][0])))\n",
    "    \n",
    "for note in objects:\n",
    "    match_object(note)"
   ]
  },
  {
   "cell_type": "markdown",
   "metadata": {},
   "source": [
    "Once again, this example is limited to finding only one note head. It won't work if the segmented object represents two eighth notes connected or a chord with noteheads on top of each other.\n",
    "\n",
    "This problem can be fixed however, but we will do the fixing in the next method."
   ]
  },
  {
   "cell_type": "markdown",
   "metadata": {},
   "source": [
    "### Method B: Stemless noteheads"
   ]
  },
  {
   "cell_type": "markdown",
   "metadata": {},
   "source": [
    "Another way is to remove the stems, and concentrate only on note heads.\n",
    "\n",
    "This way templates can be resized to fit the segmented note heads. However, this would still be a problem if there are more than one note head on top of the other, and instead of recognizing each of them, we would recognize them as one.\n",
    "\n",
    "So, we will remove the stems, but must improve the algorithm to recognize multiple note heads. But let's do it one step at a time."
   ]
  },
  {
   "cell_type": "code",
   "execution_count": 22,
   "metadata": {
    "collapsed": false
   },
   "outputs": [
    {
     "data": {
      "image/png": "[encoded data removed]",
      "text/plain": [
       "<matplotlib.figure.Figure at 0x114dacc0>"
      ]
     },
     "metadata": {},
     "output_type": "display_data"
    }
   ],
   "source": [
    "img_stemless = img_vert_objects.copy()\n",
    "for row in range(len(img_stemless)):\n",
    "    for col in range(len(img_stemless[row])):\n",
    "        if img_vert_lines[row,col] == 255:\n",
    "            img_stemless[row,col] = 0\n",
    "display_image(img_stemless)"
   ]
  },
  {
   "cell_type": "markdown",
   "metadata": {},
   "source": [
    "Now we find the regions."
   ]
  },
  {
   "cell_type": "code",
   "execution_count": 25,
   "metadata": {
    "collapsed": false
   },
   "outputs": [
    {
     "data": {
      "image/png": "[encoded data removed]",
      "text/plain": [
       "<matplotlib.figure.Figure at 0x12fe9a20>"
      ]
     },
     "metadata": {},
     "output_type": "display_data"
    },
    {
     "name": "stdout",
     "output_type": "stream",
     "text": [
      "Number of recognized regions: 18\n",
      "False regions:\n",
      "[(88, 414), (88, 415), (88, 416), (88, 417)]\n",
      "[(102, 300), (102, 301), (102, 302), (102, 303)]\n",
      "[(113, 188), (113, 189), (113, 190), (113, 191)]\n",
      "[(113, 949), (113, 950), (113, 951)]\n",
      "[(127, 837), (128, 836)]\n",
      "[(131, 835)]\n",
      "[(141, 723), (141, 724), (141, 725)]\n",
      "[(155, 611)]\n",
      "[(158, 610)]\n",
      "[(168, 496), (168, 497), (168, 498)]\n"
     ]
    }
   ],
   "source": [
    "img, regions = find_regions(img_stemless)\n",
    "display_image(img)\n",
    "print(\"Number of recognized regions: %s\" % len(regions))\n",
    "print(\"False regions:\")\n",
    "for region in regions:\n",
    "    if len(region) < 10:\n",
    "        print region"
   ]
  },
  {
   "cell_type": "markdown",
   "metadata": {},
   "source": [
    "Since there are more regions than we need, because of the tiny spots and freckles, we will morphologically open the image to remove them. And we'll do that with a circle shaped kernel, with a size of 1/4 staff spacing."
   ]
  },
  {
   "cell_type": "code",
   "execution_count": 34,
   "metadata": {
    "collapsed": false
   },
   "outputs": [
    {
     "data": {
      "image/png": "[encoded data removed]",
      "text/plain": [
       "<matplotlib.figure.Figure at 0x12027048>"
      ]
     },
     "metadata": {},
     "output_type": "display_data"
    },
    {
     "name": "stdout",
     "output_type": "stream",
     "text": [
      "Number of recognized regions: 8\n"
     ]
    }
   ],
   "source": [
    "n = int(staff_spacing / 4.)\n",
    "y,x = np.ogrid[-n : n +1, -n : n+1]\n",
    "mask = x*x+y*y <= n*n\n",
    "kernel = np.zeros((len(mask), len(mask)))\n",
    "kernel[mask] = 1\n",
    "kernel = np.uint8(kernel)\n",
    "img_stemless = open_image(img_stemless, kernel)\n",
    "img, regions = find_regions(img_stemless)\n",
    "display_image(img)\n",
    "print(\"Number of recognized regions: %s\" % len(regions))"
   ]
  },
  {
   "cell_type": "markdown",
   "metadata": {
    "collapsed": true
   },
   "source": [
    "We split the image into smaller images that contain only the heads."
   ]
  },
  {
   "cell_type": "code",
   "execution_count": 36,
   "metadata": {
    "collapsed": false
   },
   "outputs": [
    {
     "name": "stdout",
     "output_type": "stream",
     "text": [
      "First note head\n"
     ]
    },
    {
     "data": {
      "image/png": "[encoded data removed]",
      "text/plain": [
       "<matplotlib.figure.Figure at 0x12d712e8>"
      ]
     },
     "metadata": {},
     "output_type": "display_data"
    }
   ],
   "source": [
    "objects = split_image(img_stemless, regions)\n",
    "print(\"First note head\")\n",
    "display_image(objects[0])"
   ]
  },
  {
   "cell_type": "markdown",
   "metadata": {},
   "source": [
    "And perform the template matching for each note head."
   ]
  },
  {
   "cell_type": "code",
   "execution_count": 37,
   "metadata": {
    "collapsed": false
   },
   "outputs": [
    {
     "name": "stdout",
     "output_type": "stream",
     "text": [
      "Template matching: templates/note_heads/filled_06.jpg\n",
      "Template matching: templates/note_heads/filled_04.jpg\n",
      "Template matching: templates/note_heads/filled_02.jpg\n",
      "Template matching: templates/note_heads/filled_07.jpg\n",
      "Template matching: templates/note_heads/filled_05.jpg\n",
      "Template matching: templates/note_heads/filled_03.jpg\n",
      "Template matching: templates/note_heads/filled_01.jpg\n",
      "best match: 87%\n",
      "templateName: templates/note_heads/filled_05.jpg\n",
      "rows: 1 - 26\n",
      "cols: 0 - 25\n",
      "Template matching: templates/note_heads/filled_06.jpg\n",
      "Template matching: templates/note_heads/filled_04.jpg\n",
      "Template matching: templates/note_heads/filled_02.jpg\n",
      "Template matching: templates/note_heads/filled_07.jpg\n",
      "Template matching: templates/note_heads/filled_05.jpg\n",
      "Template matching: templates/note_heads/filled_03.jpg\n",
      "Template matching: templates/note_heads/filled_01.jpg\n",
      "best match: 87%\n",
      "templateName: templates/note_heads/filled_02.jpg\n",
      "rows: 2 - 27\n",
      "cols: 0 - 25\n",
      "Template matching: templates/note_heads/filled_06.jpg\n",
      "Template matching: templates/note_heads/filled_04.jpg\n",
      "Template matching: templates/note_heads/filled_02.jpg\n",
      "Template matching: templates/note_heads/filled_07.jpg\n",
      "Template matching: templates/note_heads/filled_05.jpg\n",
      "Template matching: templates/note_heads/filled_03.jpg\n",
      "Template matching: templates/note_heads/filled_01.jpg\n",
      "best match: 87%\n",
      "templateName: templates/note_heads/filled_05.jpg\n",
      "rows: 1 - 26\n",
      "cols: 0 - 25\n",
      "Template matching: templates/note_heads/filled_06.jpg\n",
      "Template matching: templates/note_heads/filled_04.jpg\n",
      "Template matching: templates/note_heads/filled_02.jpg\n",
      "Template matching: templates/note_heads/filled_07.jpg\n",
      "Template matching: templates/note_heads/filled_05.jpg\n",
      "Template matching: templates/note_heads/filled_03.jpg\n",
      "Template matching: templates/note_heads/filled_01.jpg\n",
      "best match: 87%\n",
      "templateName: templates/note_heads/filled_02.jpg\n",
      "rows: 0 - 25\n",
      "cols: 0 - 25\n",
      "Template matching: templates/note_heads/filled_06.jpg\n",
      "Template matching: templates/note_heads/filled_04.jpg\n",
      "Template matching: templates/note_heads/filled_02.jpg\n",
      "Template matching: templates/note_heads/filled_07.jpg\n",
      "Template matching: templates/note_heads/filled_05.jpg\n",
      "Template matching: templates/note_heads/filled_03.jpg\n",
      "Template matching: templates/note_heads/filled_01.jpg\n",
      "best match: 87%\n",
      "templateName: templates/note_heads/filled_05.jpg\n",
      "rows: 1 - 26\n",
      "cols: 0 - 25\n",
      "Template matching: templates/note_heads/filled_06.jpg\n",
      "Template matching: templates/note_heads/filled_04.jpg\n",
      "Template matching: templates/note_heads/filled_02.jpg\n",
      "Template matching: templates/note_heads/filled_07.jpg\n",
      "Template matching: templates/note_heads/filled_05.jpg\n",
      "Template matching: templates/note_heads/filled_03.jpg\n",
      "Template matching: templates/note_heads/filled_01.jpg\n",
      "best match: 89%\n",
      "templateName: templates/note_heads/filled_05.jpg\n",
      "rows: 4 - 29\n",
      "cols: 0 - 25\n",
      "Template matching: templates/note_heads/filled_06.jpg\n",
      "Template matching: templates/note_heads/filled_04.jpg\n",
      "Template matching: templates/note_heads/filled_02.jpg\n",
      "Template matching: templates/note_heads/filled_07.jpg\n",
      "Template matching: templates/note_heads/filled_05.jpg\n",
      "Template matching: templates/note_heads/filled_03.jpg\n",
      "Template matching: templates/note_heads/filled_01.jpg\n",
      "best match: 91%\n",
      "templateName: templates/note_heads/filled_02.jpg\n",
      "rows: 1 - 26\n",
      "cols: 0 - 25\n",
      "Template matching: templates/note_heads/filled_06.jpg\n",
      "Template matching: templates/note_heads/filled_04.jpg\n",
      "Template matching: templates/note_heads/filled_02.jpg\n",
      "Template matching: templates/note_heads/filled_07.jpg\n",
      "Template matching: templates/note_heads/filled_05.jpg\n",
      "Template matching: templates/note_heads/filled_03.jpg\n",
      "Template matching: templates/note_heads/filled_01.jpg\n",
      "best match: 90%\n",
      "templateName: templates/note_heads/filled_05.jpg\n",
      "rows: 4 - 29\n",
      "cols: 0 - 25\n"
     ]
    }
   ],
   "source": [
    "for note in objects:\n",
    "    match_object(note)"
   ]
  },
  {
   "cell_type": "markdown",
   "metadata": {},
   "source": [
    "We got slightly better results. However the algorithm still recognizes only one note head in segmented image, so we'll improve the match_object function. (Work in progress)"
   ]
  },
  {
   "cell_type": "code",
   "execution_count": null,
   "metadata": {
    "collapsed": true
   },
   "outputs": [],
   "source": [
    "def match_object(note):\n",
    "    object_height, object_width = note.shape[:2]\n",
    "    best_match = (None,(0,0),0)\n",
    "    for templateName, template in templates.items():\n",
    "        print(\"Template matching: %s\" % templateName)\n",
    "        match_matrix = []\n",
    "        for row in range(object_height - len(template)):\n",
    "            match_matrix.append([])\n",
    "            for col in range(object_width - len(template[0])):\n",
    "                match = 0\n",
    "                for r in range(len(template)):\n",
    "                    for c in range(len(template[r])):\n",
    "                        match += 1 if note[row + r ][col + c] == template[r][c] else 0\n",
    "                match *= 1./(len(template) * len(template[0]))\n",
    "\n",
    "                match_matrix[-1] += [match]\n",
    "                if match > best_match[2]:\n",
    "                    best_match = (templateName,(row,col),match)\n",
    "\n",
    "    # Normalize\n",
    "    print(\"best match: %d%%\" % (best_match[2]*100))\n",
    "    print(\"templateName: %s\" % best_match[0])\n",
    "    print(\"rows: %s - %s\" % (best_match[1][0], best_match[1][0] + len(templates[best_match[0]])))\n",
    "    print(\"cols: %s - %s\" % (best_match[1][1], best_match[1][1] + len(templates[best_match[0]][0])))"
   ]
  }
 ],
 "metadata": {
  "kernelspec": {
   "display_name": "Python 2",
   "language": "python",
   "name": "python2"
  },
  "language_info": {
   "codemirror_mode": {
    "name": "ipython",
    "version": 2
   },
   "file_extension": ".py",
   "mimetype": "text/x-python",
   "name": "python",
   "nbconvert_exporter": "python",
   "pygments_lexer": "ipython2",
   "version": "2.7.11"
  }
 },
 "nbformat": 4,
 "nbformat_minor": 0
}
