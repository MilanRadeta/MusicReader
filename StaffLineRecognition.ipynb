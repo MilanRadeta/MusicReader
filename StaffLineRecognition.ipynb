{
 "cells": [
  {
   "cell_type": "markdown",
   "metadata": {},
   "source": [
    "# Staff line recognition"
   ]
  },
  {
   "cell_type": "markdown",
   "metadata": {},
   "source": [
    "Imports and definitions"
   ]
  },
  {
   "cell_type": "code",
   "execution_count": 46,
   "metadata": {
    "collapsed": true
   },
   "outputs": [],
   "source": [
    "%matplotlib inline\n",
    "import cv2\n",
    "import matplotlib.pyplot as plt\n",
    "import numpy as np\n",
    "\n",
    "def load_image(path):\n",
    "    return cv2.cvtColor(cv2.imread(path), cv2.COLOR_BGR2RGB)\n",
    "def image_gray(image):\n",
    "    return cv2.cvtColor(image, cv2.COLOR_RGB2GRAY)\n",
    "def image_bin_otsu(image_gs):\n",
    "    ret,image_bin = cv2.threshold(image_gs, 0, 255, cv2.THRESH_BINARY+cv2.THRESH_OTSU)\n",
    "    return image_bin\n",
    "def blur(image):\n",
    "    return cv2.GaussianBlur(image,(5,5),0)\n",
    "def invert(image):\n",
    "    return 255-image\n",
    "def display_image(image, color= False):\n",
    "    plt.figure()\n",
    "    if color:\n",
    "        plt.imshow(image)\n",
    "    else:\n",
    "        plt.imshow(image, 'gray')\n",
    "    plt.show()\n",
    "def dilate(image):\n",
    "    kernel = np.ones((1,100))\n",
    "    return cv2.dilate(image, kernel, iterations=1)\n",
    "def erode(image):\n",
    "    kernel = np.ones((1,100))\n",
    "    return cv2.erode(image, kernel, iterations=1)\n",
    "def open_image(image):\n",
    "    return dilate(erode(image))"
   ]
  },
  {
   "cell_type": "markdown",
   "metadata": {},
   "source": [
    "Image load and binarization"
   ]
  },
  {
   "cell_type": "code",
   "execution_count": 2,
   "metadata": {
    "collapsed": false
   },
   "outputs": [
    {
     "data": {
      "image/png": "[encoded data removed]",
      "text/plain": [
       "<matplotlib.figure.Figure at 0x397b7f0>"
      ]
     },
     "metadata": {},
     "output_type": "display_data"
    }
   ],
   "source": [
    "org_image = load_image(\"staff-with-notes.jpg\")\n",
    "image = image_gray(org_image)\n",
    "img_otsu = image_bin_otsu(image)\n",
    "display_image(img_otsu)"
   ]
  },
  {
   "cell_type": "markdown",
   "metadata": {},
   "source": [
    "Image inversion"
   ]
  },
  {
   "cell_type": "code",
   "execution_count": 3,
   "metadata": {
    "collapsed": false
   },
   "outputs": [
    {
     "data": {
      "image/png": "[encoded data removed]",
      "text/plain": [
       "<matplotlib.figure.Figure at 0x1eebc710>"
      ]
     },
     "metadata": {},
     "output_type": "display_data"
    }
   ],
   "source": [
    "inv_img = invert(img_otsu)\n",
    "display_image(inv_img)"
   ]
  },
  {
   "cell_type": "markdown",
   "metadata": {},
   "source": [
    "## Horizontal projection"
   ]
  },
  {
   "cell_type": "code",
   "execution_count": 4,
   "metadata": {
    "collapsed": false
   },
   "outputs": [
    {
     "data": {
      "image/png": "[encoded data removed]",
      "text/plain": [
       "<matplotlib.figure.Figure at 0x395fc50>"
      ]
     },
     "metadata": {},
     "output_type": "display_data"
    }
   ],
   "source": [
    "hor_proj = []\n",
    "for i in range(len(inv_img)):\n",
    "    row_sum = 0\n",
    "    for j in range(len(inv_img[i])):\n",
    "        row_sum += inv_img[i][j] == 255\n",
    "    hor_proj.append([255] * row_sum + [0] * (len(inv_img[0]) - row_sum))\n",
    "    \n",
    "display_image(hor_proj)"
   ]
  },
  {
   "cell_type": "markdown",
   "metadata": {},
   "source": [
    "Staff line localization. Selects a part of horizontal projection at 2/3 width."
   ]
  },
  {
   "cell_type": "code",
   "execution_count": 5,
   "metadata": {
    "collapsed": false
   },
   "outputs": [
    {
     "data": {
      "image/png": "[encoded data removed]",
      "text/plain": [
       "<matplotlib.figure.Figure at 0x1f1fc550>"
      ]
     },
     "metadata": {},
     "output_type": "display_data"
    }
   ],
   "source": [
    "two_thirds = 2 * len(hor_proj[0])//3\n",
    "cutoff_size = len(hor_proj[0]) // 10\n",
    "cutoff = hor_proj[:]\n",
    "\n",
    "for i in range(len(cutoff)):\n",
    "    cutoff[i] = cutoff[i][two_thirds : two_thirds + cutoff_size] \n",
    "\n",
    "cutoff = np.array(cutoff, dtype = np.uint8)\n",
    "display_image(cutoff)"
   ]
  },
  {
   "cell_type": "markdown",
   "metadata": {},
   "source": [
    "Finding contours - staff lines."
   ]
  },
  {
   "cell_type": "code",
   "execution_count": 6,
   "metadata": {
    "collapsed": false
   },
   "outputs": [
    {
     "data": {
      "text/plain": [
       "<matplotlib.image.AxesImage at 0x1f99f0b8>"
      ]
     },
     "execution_count": 6,
     "metadata": {},
     "output_type": "execute_result"
    },
    {
     "data": {
      "image/png": "[encoded data removed]",
      "text/plain": [
       "<matplotlib.figure.Figure at 0x1f1fc908>"
      ]
     },
     "metadata": {},
     "output_type": "display_data"
    }
   ],
   "source": [
    "for i in range(len(cutoff))\n",
    "img_cnt, contours, hierarchy = cv2.findContours(cutoff.copy(), cv2.RETR_EXTERNAL, cv2.CHAIN_APPROX_NONE)\n",
    "img_cnt = cutoff.copy()\n",
    "cv2.drawContours(img_cnt, contours, -1, (255,0,0), 1)\n",
    "plt.imshow(img_cnt)"
   ]
  },
  {
   "cell_type": "markdown",
   "metadata": {},
   "source": [
    "Finding tops, bottoms and thicknesses of staff lines, as well as the average staff line thickness."
   ]
  },
  {
   "cell_type": "code",
   "execution_count": 27,
   "metadata": {
    "collapsed": false
   },
   "outputs": [],
   "source": [
    "def find_contours(image):\n",
    "    img_cnt, contours, hierarchy = cv2.findContours(image.copy(), cv2.RETR_EXTERNAL, cv2.CHAIN_APPROX_NONE)\n",
    "\n",
    "    lines_tops = []\n",
    "    lines_bottoms = []\n",
    "    lines_thicknesses = []\n",
    "\n",
    "    for contour in contours:\n",
    "        center, size, angle = cv2.minAreaRect(contour)\n",
    "        xt,yt,w,h = cv2.boundingRect(contour)\n",
    "        lines_tops.append(yt)\n",
    "        lines_bottoms.append(yt + h)\n",
    "        lines_thicknesses.append(h)\n",
    "\n",
    "    lines_tops = sorted(lines_tops)\n",
    "    lines_bottoms = sorted(lines_bottoms)\n",
    "    lines_thicknesses = sorted(lines_thicknesses)\n",
    "    print(\"Lines top positions: \" + str(lines_tops))\n",
    "    print(\"Lines bottom positions: \" + str(lines_bottoms))\n",
    "    print(\"Lines thicknesses: \" + str(lines_thicknesses))\n",
    "\n",
    "    avg_thickness = sum(lines_thickness) / len(lines_thickness)\n",
    "    print(\"Average line thickness: \" + str(avg_thickness))\n",
    "    return lines_tops, lines_bottoms, lines_thicknesses, avg_thickness\n",
    "\n",
    "def find_all_ys(image):\n",
    "    ys = []\n",
    "    for i in range(len(image)):\n",
    "        for j in range(len(image[i])):\n",
    "            if (image[i][j] == 255) and (i not in ys):\n",
    "                ys.append(i)\n",
    "    print(\"Y coordinates: \" + str(sorted(ys)))\n",
    "    return sorted(ys)"
   ]
  },
  {
   "cell_type": "code",
   "execution_count": 28,
   "metadata": {
    "collapsed": false
   },
   "outputs": [
    {
     "name": "stdout",
     "output_type": "stream",
     "text": [
      "Lines top positions: [113, 141, 168, 195, 223]\n",
      "Lines bottom positions: [117, 145, 172, 199, 227]\n",
      "Lines thicknesses: [4, 4, 4, 4, 4]\n",
      "Average line thickness: 4\n",
      "Y coordinates: [113, 114, 115, 116, 141, 142, 143, 144, 168, 169, 170, 171, 195, 196, 197, 198, 223, 224, 225, 226]\n"
     ]
    }
   ],
   "source": [
    "lines_tops, lines_bottoms, lines_thicknesses, avg_thickness = find_contours(cutoff)\n",
    "ys = find_all_ys(cutoff)"
   ]
  },
  {
   "cell_type": "markdown",
   "metadata": {},
   "source": [
    "## Image opening\n",
    "Erosion, then dilatation."
   ]
  },
  {
   "cell_type": "code",
   "execution_count": 11,
   "metadata": {
    "collapsed": false
   },
   "outputs": [
    {
     "data": {
      "image/png": "[encoded data removed]",
      "text/plain": [
       "<matplotlib.figure.Figure at 0x1f9e9198>"
      ]
     },
     "metadata": {},
     "output_type": "display_data"
    }
   ],
   "source": [
    "img_opened = open_image(inv_img)\n",
    "display_image(img_opened)"
   ]
  },
  {
   "cell_type": "code",
   "execution_count": 29,
   "metadata": {
    "collapsed": false
   },
   "outputs": [
    {
     "name": "stdout",
     "output_type": "stream",
     "text": [
      "Lines top positions: [113, 141, 168, 195, 223]\n",
      "Lines bottom positions: [117, 145, 172, 199, 227]\n",
      "Lines thicknesses: [4, 4, 4, 4, 4]\n",
      "Average line thickness: 4\n",
      "Y coordinates: [113, 114, 115, 116, 141, 142, 143, 144, 168, 169, 170, 171, 195, 196, 197, 198, 223, 224, 225, 226]\n"
     ]
    }
   ],
   "source": [
    "other_lines_tops, other_lines_bottoms, other_lines_thicknesses, other_avg_thickness = find_contours(img_opened)\n",
    "other_ys = find_all_ys(img_opened)"
   ]
  },
  {
   "cell_type": "markdown",
   "metadata": {},
   "source": [
    "The y-coordinates that are in found in results of both methods are used, in case horizontal projection cutoff gives us a wider lines."
   ]
  },
  {
   "cell_type": "code",
   "execution_count": 33,
   "metadata": {
    "collapsed": false
   },
   "outputs": [],
   "source": [
    "new_ys = []\n",
    "for y in ys:\n",
    "    if y in other_ys:\n",
    "        new_ys += [y]\n",
    "ys = new_ys"
   ]
  },
  {
   "cell_type": "code",
   "execution_count": 45,
   "metadata": {
    "collapsed": false
   },
   "outputs": [
    {
     "name": "stdout",
     "output_type": "stream",
     "text": [
      "Line Y-coords, grouped by lines: [[114, 115, 116], [141, 142, 143, 144], [168, 169, 170, 171], [195, 196, 197, 198], [223, 224, 225, 226]]\n",
      "Distances between the lines: [25, 24, 24, 25]\n"
     ]
    }
   ],
   "source": [
    "labels = [[]]\n",
    "line_distances = []\n",
    "prev_y = None\n",
    "for y in ys:\n",
    "    if prev_y is not None:\n",
    "        if y - prev_y > 1:\n",
    "            labels.append([])\n",
    "            line_distances += [y - prev_y]\n",
    "        labels[-1] += [y]\n",
    "    prev_y = y\n",
    "print(\"Line Y-coords, grouped by lines: \" + str(labels))\n",
    "print(\"Distances between the lines: \" + str(line_distances))"
   ]
  },
  {
   "cell_type": "code",
   "execution_count": null,
   "metadata": {
    "collapsed": true
   },
   "outputs": [],
   "source": []
  }
 ],
 "metadata": {
  "kernelspec": {
   "display_name": "Python 2",
   "language": "python",
   "name": "python2"
  },
  "language_info": {
   "codemirror_mode": {
    "name": "ipython",
    "version": 2
   },
   "file_extension": ".py",
   "mimetype": "text/x-python",
   "name": "python",
   "nbconvert_exporter": "python",
   "pygments_lexer": "ipython2",
   "version": "2.7.11"
  }
 },
 "nbformat": 4,
 "nbformat_minor": 0
}
