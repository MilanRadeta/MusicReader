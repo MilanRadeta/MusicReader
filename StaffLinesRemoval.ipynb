{
 "cells": [
  {
   "cell_type": "markdown",
   "metadata": {},
   "source": [
    "# Staff line removal"
   ]
  },
  {
   "cell_type": "markdown",
   "metadata": {},
   "source": [
    "Imports and definitions"
   ]
  },
  {
   "cell_type": "code",
   "execution_count": 1,
   "metadata": {
    "collapsed": false
   },
   "outputs": [],
   "source": [
    "%matplotlib inline\n",
    "import cv2\n",
    "import matplotlib.pyplot as plt\n",
    "import numpy as np\n",
    "\n",
    "# Image loading, binarization, inversion and display\n",
    "def load_image(path):\n",
    "    return cv2.cvtColor(cv2.imread(path), cv2.COLOR_BGR2RGB)\n",
    "def image_gray(image):\n",
    "    return cv2.cvtColor(image, cv2.COLOR_RGB2GRAY)\n",
    "def image_bin_otsu(image_gs):\n",
    "    ret,image_bin = cv2.threshold(image_gs, 0, 255, cv2.THRESH_BINARY+cv2.THRESH_OTSU)\n",
    "    return image_bin\n",
    "def invert(image):\n",
    "    return 255-image\n",
    "def display_image(image, color= False):\n",
    "    plt.figure()\n",
    "    if color:\n",
    "        plt.imshow(image)\n",
    "    else:\n",
    "        plt.imshow(image, 'gray')\n",
    "    plt.show()\n",
    "    \n",
    "# Image morphological operations\n",
    "def dilate(image):\n",
    "    kernel = np.ones((1,100))\n",
    "    return cv2.dilate(image, kernel, iterations=1)\n",
    "def erode(image):\n",
    "    kernel = np.ones((1,100))\n",
    "    return cv2.erode(image, kernel, iterations=1)\n",
    "def open_image(image):\n",
    "    return dilate(erode(image))\n",
    "\n",
    "# Horizontal projection\n",
    "def horizontal_projection(image):\n",
    "    hor_proj = []\n",
    "    for i in range(len(image)):\n",
    "        row_sum = 0\n",
    "        for j in range(len(image[i])):\n",
    "            row_sum += image[i][j] == 255\n",
    "        hor_proj.append([255] * row_sum + [0] * (len(image[0]) - row_sum))\n",
    "\n",
    "    return hor_proj\n",
    "\n",
    "# Image crop\n",
    "def crop_image(image, crop_start = None, crop_width = None):\n",
    "    if crop_start is None:\n",
    "        crop_start = len(image[0]) * 2//3\n",
    "        \n",
    "    if crop_width is None:\n",
    "        crop_width = len(image[0]) // 10\n",
    "    cutoff = image[:]\n",
    "    \n",
    "    for i in range(len(cutoff)):\n",
    "        cutoff[i] = cutoff[i][crop_start : crop_start + crop_width] \n",
    "\n",
    "    cutoff = np.array(cutoff, dtype = np.uint8)\n",
    "    return cutoff\n",
    "\n",
    "# Find Y coordinates of white pixels\n",
    "def find_y(image):\n",
    "    y = []\n",
    "    for i in range(len(image)):\n",
    "        for j in range(len(image[i])):\n",
    "            if (image[i][j] == 255) and (i not in y):\n",
    "                y.append(i)\n",
    "    return sorted(y)\n",
    "\n",
    "# Intersect two lists\n",
    "def intersect_lists(first, second):\n",
    "    ret_val = []\n",
    "    for val in first:\n",
    "        if val in second:\n",
    "            ret_val += [val]\n",
    "    return ret_val\n",
    "\n",
    "# Group points and get distances\n",
    "def label_y(y_list):\n",
    "    labels = [[]]\n",
    "    line_distances = []\n",
    "    prev_y = None\n",
    "    for y in y_list:\n",
    "        if prev_y is not None:\n",
    "            if y - prev_y > 1:\n",
    "                labels.append([])\n",
    "                line_distances += [y - prev_y]\n",
    "            labels[-1] += [y]\n",
    "        prev_y = y\n",
    "    return labels, line_distances\n",
    "\n",
    "# Find lines\n",
    "def find_lines(image):\n",
    "    first = find_y(crop_image(horizontal_projection(image)))\n",
    "    second = find_y(open_image(image))\n",
    "    return label_y(intersect_lists(first, second))\n"
   ]
  },
  {
   "cell_type": "markdown",
   "metadata": {},
   "source": [
    "Open image, binarize it and invert it."
   ]
  },
  {
   "cell_type": "code",
   "execution_count": 2,
   "metadata": {
    "collapsed": false
   },
   "outputs": [
    {
     "data": {
      "image/png": "[encoded data removed]",
      "text/plain": [
       "<matplotlib.figure.Figure at 0x3b1a0f0>"
      ]
     },
     "metadata": {},
     "output_type": "display_data"
    }
   ],
   "source": [
    "org_image = load_image(\"staff-with-notes.jpg\")\n",
    "img_gray = image_gray(org_image)\n",
    "img_otsu = image_bin_otsu(img_gray)\n",
    "inv_img = invert(img_otsu)\n",
    "display_image(inv_img)"
   ]
  },
  {
   "cell_type": "markdown",
   "metadata": {},
   "source": [
    "Find lines."
   ]
  },
  {
   "cell_type": "code",
   "execution_count": 3,
   "metadata": {
    "collapsed": false
   },
   "outputs": [
    {
     "name": "stdout",
     "output_type": "stream",
     "text": [
      "[[114, 115, 116], [141, 142, 143, 144], [168, 169, 170, 171], [195, 196, 197, 198], [223, 224, 225, 226]]\n",
      "[25, 24, 24, 25]\n"
     ]
    }
   ],
   "source": [
    "lines, distances = find_lines(inv_img)\n",
    "print(lines)\n",
    "print(distances)"
   ]
  },
  {
   "cell_type": "markdown",
   "metadata": {},
   "source": [
    "## Remove lines\n",
    "We will try three different methods for staff line removal."
   ]
  },
  {
   "cell_type": "markdown",
   "metadata": {},
   "source": [
    "### Method A: Vertical check\n",
    "This method checks for additional white non-line pixels above and below the part of the line. If there are such, that part of the line will not be removed."
   ]
  },
  {
   "cell_type": "code",
   "execution_count": 4,
   "metadata": {
    "collapsed": false
   },
   "outputs": [
    {
     "data": {
      "image/png": "[encoded data removed]",
      "text/plain": [
       "<matplotlib.figure.Figure at 0xa412470>"
      ]
     },
     "metadata": {},
     "output_type": "display_data"
    }
   ],
   "source": [
    "image = inv_img.copy()\n",
    "for line in lines:\n",
    "    top = line[0]\n",
    "    bot = line[-1]\n",
    "    for j in range(len(image[top])):\n",
    "        remove = True\n",
    "        is_line = False\n",
    "        for row in image[top:bot+1]:\n",
    "            if row[j] == 255:\n",
    "                is_line = True\n",
    "                break\n",
    "        if not is_line:\n",
    "            continue\n",
    "        # check 2 pixels above and below\n",
    "        diff = 2\n",
    "        for row in image[top - diff : top]:\n",
    "            if row[j] == 255:\n",
    "                remove = False\n",
    "                break\n",
    "        if remove:\n",
    "            for row in image[bot + 1: bot + diff + 1]:\n",
    "                if row[j] == 255:\n",
    "                    remove = False\n",
    "                    break\n",
    "        if remove:\n",
    "            for row in image[top:bot+1]:\n",
    "                row[j] = 0\n",
    "display_image(image)"
   ]
  },
  {
   "cell_type": "markdown",
   "metadata": {},
   "source": [
    "The method did not remove all lines. This is due to the imperfection of staff line recognition."
   ]
  },
  {
   "cell_type": "markdown",
   "metadata": {},
   "source": [
    "### Method B: Thickness-based removal\n",
    "This method removes the part of the line if it's less thick than a certain threshold, usually the average staff line thickness or a bit smaller."
   ]
  },
  {
   "cell_type": "code",
   "execution_count": 16,
   "metadata": {
    "collapsed": false
   },
   "outputs": [
    {
     "data": {
      "image/png": "[encoded data removed]",
      "text/plain": [
       "<matplotlib.figure.Figure at 0x1195e3c8>"
      ]
     },
     "metadata": {},
     "output_type": "display_data"
    }
   ],
   "source": [
    "avg_thickness = lines[:]\n",
    "for i, line in enumerate(avg_thickness):\n",
    "    avg_thickness[i] = len(line)\n",
    "avg_thickness = sum(avg_thickness) * 1./len(avg_thickness)\n",
    "\n",
    "\n",
    "tolerance = 0.3\n",
    "image = inv_img.copy()\n",
    "for j in range(len(image[0])):\n",
    "    white = False\n",
    "    for i in range(len(image)):\n",
    "        if image[i][j] == 255:\n",
    "            if not white:\n",
    "                start = i\n",
    "            white = True\n",
    "        else:\n",
    "            if white:\n",
    "                thickness = i - 1 - start\n",
    "                if thickness < avg_thickness - tolerance:\n",
    "                    for row in image[start : i]:\n",
    "                        row[j] = 0\n",
    "            white = False\n",
    "display_image(image)\n"
   ]
  },
  {
   "cell_type": "markdown",
   "metadata": {
    "collapsed": true
   },
   "source": [
    "This method successfully removed all the staff lines. Some of the other elements, however, may have been disfigured a bit."
   ]
  },
  {
   "cell_type": "markdown",
   "metadata": {},
   "source": [
    "### Method C: Combination of methods A and B\n"
   ]
  }
 ],
 "metadata": {
  "kernelspec": {
   "display_name": "Python 2",
   "language": "python",
   "name": "python2"
  },
  "language_info": {
   "codemirror_mode": {
    "name": "ipython",
    "version": 2
   },
   "file_extension": ".py",
   "mimetype": "text/x-python",
   "name": "python",
   "nbconvert_exporter": "python",
   "pygments_lexer": "ipython2",
   "version": "2.7.11"
  }
 },
 "nbformat": 4,
 "nbformat_minor": 0
}
