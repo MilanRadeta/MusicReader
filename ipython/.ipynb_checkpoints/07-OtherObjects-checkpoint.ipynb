{
 "cells": [
  {
   "cell_type": "markdown",
   "metadata": {},
   "source": [
    "# Classification"
   ]
  },
  {
   "cell_type": "code",
   "execution_count": 19,
   "metadata": {},
   "outputs": [],
   "source": [
    "%matplotlib inline\n",
    "import cv2\n",
    "import matplotlib.pyplot as plt\n",
    "import numpy as np\n",
    "from os import listdir\n",
    "from os.path import isdir\n",
    "\n",
    "# Image loading, binarization, inversion and display\n",
    "def load_image(path):\n",
    "    return cv2.cvtColor(cv2.imread(path), cv2.COLOR_BGR2RGB)\n",
    "def image_gray(image):\n",
    "    return cv2.cvtColor(image, cv2.COLOR_RGB2GRAY)\n",
    "def image_bin_otsu(image_gs):\n",
    "    ret,image_bin = cv2.threshold(image_gs, 0, 255, cv2.THRESH_BINARY+cv2.THRESH_OTSU)\n",
    "    return image_bin\n",
    "def invert(image):\n",
    "    return 255-image\n",
    "def display_image(image, color= False):\n",
    "    plt.figure()\n",
    "    if color:\n",
    "        plt.imshow(image)\n",
    "    else:\n",
    "        plt.imshow(image, 'gray')\n",
    "    plt.show()\n",
    "\n",
    "def resize_image(tmp_img, new_width, new_height):\n",
    "    return cv2.resize(tmp_img, (int(round(new_width)), int(round(new_height))), interpolation = cv2.INTER_CUBIC)\n",
    "\n",
    "# Image morphological operations\n",
    "def dilate(image, kernel, iterations = 1):\n",
    "    return cv2.dilate(image, kernel, iterations)\n",
    "def erode(image, kernel, iterations = 1):\n",
    "    return cv2.erode(image, kernel, iterations)\n",
    "def open_image(image, kernel = None):\n",
    "    if kernel is None:\n",
    "        kernel = np.ones((1, 100))\n",
    "    return dilate(erode(image, kernel), kernel)\n",
    "\n",
    "# Horizontal projection\n",
    "def horizontal_projection(image):\n",
    "    hor_proj = []\n",
    "    for i in range(len(image)):\n",
    "        row_sum = 0\n",
    "        for j in range(len(image[i])):\n",
    "            row_sum += image[i][j] == 255\n",
    "        hor_proj.append([255] * row_sum + [0] * (len(image[0]) - row_sum))\n",
    "\n",
    "    return hor_proj\n",
    "\n",
    "# Image crop\n",
    "def crop_image(image, crop_start = None, crop_width = None):\n",
    "    if crop_width is None:\n",
    "        crop_width = len(image[0]) // 10\n",
    "        \n",
    "    if crop_start is None:\n",
    "        end = 0\n",
    "        for row in image:\n",
    "            s = sum(row) / 255\n",
    "            if s > end:\n",
    "                end = s\n",
    "\n",
    "        crop_start = end - crop_width\n",
    "        \n",
    "    cutoff = image[:]\n",
    "    \n",
    "    for i in range(len(cutoff)):\n",
    "        cutoff[i] = cutoff[i][crop_start : crop_start + crop_width] \n",
    "\n",
    "    cutoff = np.array(cutoff, dtype = np.uint8)\n",
    "    return cutoff\n",
    "\n",
    "# Intersect two lists\n",
    "def intersect_lists(first, second):\n",
    "    ret_val = []\n",
    "    for val in first:\n",
    "        if val in second:\n",
    "            ret_val += [val]\n",
    "    return ret_val\n",
    "\n",
    "# Line finding, labeling and removing functions\n",
    "\n",
    "# Find Y coordinates of white pixels\n",
    "def find_y(image):\n",
    "    y = []\n",
    "    for i in range(len(image)):\n",
    "        for j in range(len(image[i])):\n",
    "            if (image[i][j] == 255) and (i not in y):\n",
    "                y.append(i)\n",
    "    return sorted(y)\n",
    "\n",
    "# Group points and get distances\n",
    "def label_y(y_list):\n",
    "    labels = [[]]\n",
    "    line_distances = []\n",
    "    prev_y = None\n",
    "    for y in y_list:\n",
    "        if prev_y is not None:\n",
    "            if y - prev_y > 1:\n",
    "                labels.append([])\n",
    "                line_distances += [y - prev_y]\n",
    "        labels[-1] += [y]\n",
    "        prev_y = y\n",
    "    return labels, line_distances\n",
    "\n",
    "# Find lines\n",
    "def find_lines(image):\n",
    "    first = find_y(crop_image(horizontal_projection(image)))\n",
    "    second = find_y(open_image(image))\n",
    "    \n",
    "    \n",
    "    lines, distances = label_y(intersect_lists(first, second))\n",
    "    staff_spacings = [distances[i] for i in range(len(distances)) if (i+1) % 5 != 0 ]\n",
    "    staff_spacing = sum(staff_spacings) * 1./len(staff_spacings)\n",
    "    return lines, distances, staff_spacing\n",
    "\n",
    "# Remove lines\n",
    "def remove_lines(org_image, tolerance = 0, lines = None, topBotPixelRemoval = True, widthBasedRemoval = True):\n",
    "    image = org_image.copy()\n",
    "    \n",
    "    if lines == None:\n",
    "        lines, distances, staff_spacing = find_lines(org_image)\n",
    "    \n",
    "    if topBotPixelRemoval:\n",
    "        for line in lines:\n",
    "            top = line[0]\n",
    "            bot = line[-1]\n",
    "            for j in range(len(image[top])):\n",
    "                remove = True\n",
    "                is_line = False\n",
    "                for row in image[top:bot+1]:\n",
    "                    if row[j] == 255:\n",
    "                        is_line = True\n",
    "                        break\n",
    "                if not is_line:\n",
    "                    continue\n",
    "                # check 2 pixels above and below\n",
    "                diff = 2\n",
    "                for row in image[top - diff : top]:\n",
    "                    if row[j] == 255:\n",
    "                        remove = False\n",
    "                        break\n",
    "                if remove:\n",
    "                    for row in image[bot + 1: bot + diff + 1]:\n",
    "                        if row[j] == 255:\n",
    "                            remove = False\n",
    "                            break\n",
    "                if remove:\n",
    "                    for row in image[top:bot+1]:\n",
    "                        row[j] = 0\n",
    "    \n",
    "    if widthBasedRemoval:\n",
    "        avg_thickness = lines[:]\n",
    "        for i, line in enumerate(avg_thickness):\n",
    "            avg_thickness[i] = len(line)\n",
    "        avg_thickness = sum(avg_thickness) * 1./len(avg_thickness)\n",
    "\n",
    "        for j in range(len(image[0])):\n",
    "            white = False\n",
    "            for i in range(len(image)):\n",
    "                if image[i][j] == 255:\n",
    "                    if not white:\n",
    "                        start = i\n",
    "                    white = True\n",
    "                else:\n",
    "                    if white:\n",
    "                        thickness = i - start\n",
    "                        if thickness <= (avg_thickness + tolerance):\n",
    "                            for row in image[start : i]:\n",
    "                                row[j] = 0\n",
    "                    white = False\n",
    "    return image\n",
    "\n",
    "# Region functions\n",
    "\n",
    "# Search image for region containing pixel at row and col\n",
    "# if it's a white pixel and add it to found regions\n",
    "def add_region(image, row, col, regions, diff = 1):\n",
    "    append = True\n",
    "    coords = [(row, col)]\n",
    "    idx = 0\n",
    "    while (idx < len(coords)):\n",
    "        row, col = coords[idx]\n",
    "        for dr in range(-diff,diff + 1):\n",
    "            for dc in range(-diff,diff + 1):\n",
    "                r = row + dr\n",
    "                c = col + dc\n",
    "                if r >= 0 and c >= 0 and r < len(image) and c < len(image[r]):\n",
    "                    if image[r][c] == 255 and ((r,c) not in coords):\n",
    "                        skip = False\n",
    "                        for region in regions:\n",
    "                            if (r,c) in region:\n",
    "                                skip = True\n",
    "                                append = False\n",
    "                                for coord in coords:\n",
    "                                    region.append((r,c))\n",
    "                        if not skip:\n",
    "                            coords += [(r,c)]\n",
    "        idx += 1\n",
    "    if append:\n",
    "        regions.append(coords)\n",
    "\n",
    "# Morphological opening of image with vertical line kernel\n",
    "def find_vertical_lines(image, staff_spacing = None):\n",
    "    if staff_spacing is None:\n",
    "        # Find lines, distances\n",
    "        lines, distances, staff_spacing = find_lines(image)\n",
    "\n",
    "    # Find vertical objects\n",
    "    img_open = open_image(remove_lines(image), np.ones((1.5 * staff_spacing, 1)))\n",
    "    return img_open\n",
    "\n",
    "# Find and return regions from org_image, according to ref_image\n",
    "def find_regions(org_image, ref_image = None, diff = 1):\n",
    "    if ref_image is None:\n",
    "        ref_image = org_image\n",
    "    # Label regions of interest\n",
    "    regions = []\n",
    "    for row in range(len(ref_image)):\n",
    "        for col in range(len(ref_image[row])):\n",
    "            if ref_image[row][col] == 255:\n",
    "                isFound = False\n",
    "                for region in regions:\n",
    "                    if (row,col) in region:\n",
    "                        isFound = True\n",
    "                        break\n",
    "                if not isFound:\n",
    "                    add_region(org_image, row, col, regions, diff)\n",
    "    \n",
    "    img_regions = org_image.copy()\n",
    "    for row in range(len(img_regions)):\n",
    "        for col in range(len(img_regions[row])):\n",
    "            img_regions[row][col] = 0\n",
    "\n",
    "    for region in regions:\n",
    "        for row, col in region:\n",
    "            img_regions[row, col] = 255\n",
    "            \n",
    "    return img_regions, regions\n",
    "\n",
    "def find_vertical_objects(image, image_vert_lines = None, staff_spacing = None, diff = 1):\n",
    "    if image_vert_lines is None:\n",
    "        image_vert_lines = find_vertical_lines(image, staff_spacing)\n",
    "    return find_regions(image, image_vert_lines, diff = diff)\n",
    "\n",
    "# Additional image manipulation functions\n",
    "\n",
    "# Split image to sub images that contain only the regions\n",
    "def split_image(image, regions):\n",
    "    split_images = []\n",
    "    for region in regions:\n",
    "        minr = min([r for r,c in region])\n",
    "        maxr = max([r for r,c in region])\n",
    "        minc = min([c for r,c in region])\n",
    "        maxc = max([c for r,c in region])\n",
    "        sub_image = []\n",
    "        for row in range(minr,maxr+1):\n",
    "            sub_image.append([])\n",
    "            for col in range(minc,maxc+1):\n",
    "                sub_image[-1] += [image[row][col]]\n",
    "        sub_image = np.array(sub_image)\n",
    "        sub_image = np.uint8(sub_image)\n",
    "        split_images.append(sub_image)\n",
    "    return split_images\n",
    "\n",
    "# Remove white pixels from image1 if image2 contains them\n",
    "def image_subtract(image1, image2):\n",
    "    ret_image = image1.copy()\n",
    "    for row in range(len(ret_image)):\n",
    "        for col in range(len(ret_image[row])):\n",
    "            if image2[row,col] == 255:\n",
    "                ret_image[row,col] = 0\n",
    "\n",
    "# Template matching functions\n",
    "\n",
    "def search_for_templates(vertFile):\n",
    "    templates = []\n",
    "    split = vertFile.split('/')\n",
    "    for listedFile in listdir(\"templates\"):\n",
    "        if listedFile == split[0]:\n",
    "            for innerFile in listdir(\"templates/%s\" % listedFile):\n",
    "                if len(split) == 1 or innerFile.startswith(split[1]):\n",
    "                    templates += [\"templates/%s/%s\" % (listedFile, innerFile)]\n",
    "    return templates\n",
    "\n",
    "# Return best match from templates for image containing the object\n",
    "def match_object_with_size(obj, templates):\n",
    "    obj_height, obj_width = obj.shape[:2]\n",
    "    best_match = (None, 0)\n",
    "    for template in templates:\n",
    "        template_name = template\n",
    "        # Template Image Processing\n",
    "        template = load_image(template)\n",
    "        template = resize_image(template,obj_width,obj_height)\n",
    "        template = image_gray(template)\n",
    "        template = image_bin_otsu(template)\n",
    "        template = invert(template)\n",
    "        match = 0\n",
    "        for row in range(len(template)):\n",
    "            for col in range(len(template[row])):\n",
    "                match += 1 if obj[row][col] == template[row][col] else 0\n",
    "\n",
    "\n",
    "        # Normalize\n",
    "        match *= 1./(obj_width * obj_height)\n",
    "        if match > best_match[1]:\n",
    "            best_match = (template_name, match)\n",
    "    print(\"Best match: %d%%\" % (best_match[1]*100))\n",
    "    print(\"Template name: %s\" % best_match[0])\n",
    "    return best_match\n",
    "\n",
    "# General template matching\n",
    "def match_object(obj, templates):\n",
    "    object_height, object_width = obj.shape[:2]\n",
    "    best_match = (None,(0,0),0)\n",
    "    for templateName, template in templates.items():\n",
    "        match_matrix = []\n",
    "        for row in range(object_height - len(template) + 1):\n",
    "            match_matrix.append([])\n",
    "            for col in range(object_width - len(template[0]) + 1):\n",
    "                match = 0\n",
    "                for r in range(len(template)):\n",
    "                    for c in range(len(template[r])):\n",
    "                        match += 1 if obj[row + r ][col + c] == template[r][c] else 0\n",
    "                match *= 1./(len(template) * len(template[0]))\n",
    "\n",
    "                match_matrix[-1] += [match]\n",
    "                if match > best_match[2]:\n",
    "                    best_match = (templateName,(row,col),match)\n",
    "\n",
    "    if best_match[0] is None:\n",
    "        print(\"NO MATCH!\")\n",
    "    else:\n",
    "        print(\"best match: %d%%\" % (best_match[2]*100))\n",
    "        print(\"templateName: %s\" % best_match[0])\n",
    "        print(\"rows: %s - %s\" % (best_match[1][0], best_match[1][0] + len(templates[best_match[0]])))\n",
    "        print(\"cols: %s - %s\" % (best_match[1][1], best_match[1][1] + len(templates[best_match[0]][0])))\n",
    "    return best_match"
   ]
  },
  {
   "cell_type": "markdown",
   "metadata": {},
   "source": [
    "## Note beams\n",
    "In this section we will try to recognize note beams, which are connecting two or more note stems."
   ]
  },
  {
   "cell_type": "code",
   "execution_count": 2,
   "metadata": {},
   "outputs": [
    {
     "data": {
      "image/png": "[encoded data removed]"
     },
     "output_type": "display_data",
     "metadata": {}
    }
   ],
   "source": [
    "org_image = load_image(\"test_images/eighth_notes.jpg\")\n",
    "img_gray = image_gray(org_image)\n",
    "img_otsu = image_bin_otsu(img_gray)\n",
    "inv_img = invert(img_otsu)\n",
    "img_wo_lines = remove_lines(inv_img)\n",
    "display_image(img_wo_lines)\n",
    "lines, distances, staff_spacing = find_lines(inv_img)"
   ]
  },
  {
   "cell_type": "code",
   "execution_count": 3,
   "metadata": {},
   "outputs": [
    {
     "data": {
      "image/png": "[encoded data removed]"
     },
     "output_type": "display_data",
     "metadata": {}
    }
   ],
   "source": [
    "img_vert_lines = find_vertical_lines(inv_img)\n",
    "display_image(img_vert_lines)"
   ]
  },
  {
   "cell_type": "code",
   "execution_count": 4,
   "metadata": {},
   "outputs": [
    {
     "data": {
      "image/png": "[encoded data removed]"
     },
     "output_type": "display_data",
     "metadata": {}
    },
    {
     "name": "stdout",
     "output_type": "stream",
     "text": [
      "Number of recognized objects: 5\n"
     ]
    }
   ],
   "source": [
    "img_vert_objects, regions = find_vertical_objects(img_wo_lines, img_vert_lines)\n",
    "display_image(img_vert_objects)\n",
    "print(\"Number of recognized objects: %s\" % len(regions))"
   ]
  },
  {
   "cell_type": "markdown",
   "metadata": {},
   "source": [
    "As you can see, number of recognized regions is 5: 1 G-clef, 1 time signature (4/4), 8 eighth notes recognized as 2 regions and 1 barline."
   ]
  },
  {
   "cell_type": "markdown",
   "metadata": {},
   "source": [
    "To recognize the note beams we have to morphologically open the image with 3 kernels: a horizontal rectangle and its tilted versions (downwards and upwards by 15 degrees). For this image only the horizontal kernel is enough but we will use the other two as well.\n",
    "\n",
    "The horizontal kernel should be wide as 2 of staff spacing and high as 0.5 of staff spacing."
   ]
  },
  {
   "cell_type": "code",
   "execution_count": 5,
   "metadata": {},
   "outputs": [
    {
     "data": {
      "image/png": "[encoded data removed]"
     },
     "output_type": "display_data",
     "metadata": {}
    },
    {
     "data": {
      "image/png": "[encoded data removed]"
     },
     "output_type": "display_data",
     "metadata": {}
    },
    {
     "data": {
      "image/png": "[encoded data removed]"
     },
     "output_type": "display_data",
     "metadata": {}
    }
   ],
   "source": [
    "from scipy.ndimage.interpolation import rotate as rotate_matrix\n",
    "\n",
    "rectangle_kernel = np.ones((0.5 * staff_spacing, 2 * staff_spacing))\n",
    "kernels = [\n",
    "    rectangle_kernel,\n",
    "    np.uint8(rotate_matrix(rectangle_kernel,15)),\n",
    "    np.uint8(rotate_matrix(rectangle_kernel,-15))\n",
    "]\n",
    "for kernel in kernels:\n",
    "    display_image(kernel)"
   ]
  },
  {
   "cell_type": "code",
   "execution_count": 6,
   "metadata": {},
   "outputs": [
    {
     "data": {
      "image/png": "[encoded data removed]"
     },
     "output_type": "display_data",
     "metadata": {}
    },
    {
     "data": {
      "image/png": "[encoded data removed]"
     },
     "output_type": "display_data",
     "metadata": {}
    },
    {
     "data": {
      "image/png": "[encoded data removed]"
     },
     "output_type": "display_data",
     "metadata": {}
    }
   ],
   "source": [
    "img_beams = []\n",
    "for kernel in kernels:\n",
    "    img_beams += [open_image(img_vert_objects, np.uint8(kernel))]\n",
    "    display_image(img_beams[-1])"
   ]
  },
  {
   "cell_type": "code",
   "execution_count": 7,
   "metadata": {},
   "outputs": [
    {
     "data": {
      "image/png": "[encoded data removed]"
     },
     "output_type": "display_data",
     "metadata": {}
    }
   ],
   "source": [
    "def merge_images(images):\n",
    "    ret_image = images[0].copy()\n",
    "    for image in images:\n",
    "        for row in range(len(image)):\n",
    "            for col in range(len(image)):\n",
    "                if image[row,col] == 255:\n",
    "                    ret_image[row,col] = 255\n",
    "    return ret_image\n",
    "\n",
    "img_beams = merge_images(img_beams)\n",
    "display_image(img_beams)"
   ]
  },
  {
   "cell_type": "markdown",
   "metadata": {},
   "source": [
    "Now we only need to memorize their regions and use them in semantics analysis."
   ]
  },
  {
   "cell_type": "markdown",
   "metadata": {},
   "source": [
    "## Time signatures"
   ]
  },
  {
   "cell_type": "markdown",
   "metadata": {},
   "source": [
    "Now we'll try to recognize time signatures. They aren't that tricky but there are a few things to take care of:\n",
    "1. Sometimes they are vertical objects (contain recognized vertical lines), sometimes they are not. It's best to start classifying them when recognizing non vertical objects\n",
    "2. Sometimes they are recognized as one region, sometimes as two. When recognized as, they should be split in two regions (top half and bottom half, from the middle staff line) as separate numbers.\n",
    "3. They are put either right of the bar line or right of the clef.\n",
    "\n",
    "Now, we will concentrate on the time signature used in previous image, which is a vertical object recognized as one region, but these properties will be useful when recognizing a full music score."
   ]
  },
  {
   "cell_type": "code",
   "execution_count": 8,
   "metadata": {},
   "outputs": [
    {
     "data": {
      "image/png": "[encoded data removed]"
     },
     "output_type": "display_data",
     "metadata": {}
    }
   ],
   "source": [
    "objects = split_image(img_vert_objects, regions)\n",
    "display_image(objects[2])"
   ]
  },
  {
   "cell_type": "markdown",
   "metadata": {},
   "source": [
    "Check if it's recognized as one region. We will suppose we already know it's right next to the clef."
   ]
  },
  {
   "cell_type": "code",
   "execution_count": 9,
   "metadata": {},
   "outputs": [
    {
     "name": "stdout",
     "output_type": "stream",
     "text": [
      "84\n",
      "84\n",
      "Nearly the same height as the whole staff! It's one region!\n"
     ]
    }
   ],
   "source": [
    "obj = objects[2]\n",
    "obj_height, obj_width = obj.shape[:2]\n",
    "tolerance = 2\n",
    "staff_height = lines[-1][-1] - lines[0][0] + 1\n",
    "print obj_height\n",
    "print staff_height\n",
    "if staff_height + tolerance > obj_height > staff_height / 2 + tolerance:\n",
    "    print(\"Nearly the same height as the whole staff! It's one region!\")"
   ]
  },
  {
   "cell_type": "code",
   "execution_count": 10,
   "metadata": {},
   "outputs": [
    {
     "data": {
      "image/png": "[encoded data removed]"
     },
     "output_type": "display_data",
     "metadata": {}
    },
    {
     "name": "stdout",
     "output_type": "stream",
     "text": [
      "best match: 82%\n",
      "templateName: templates/time/4_01.jpg\n",
      "rows: 0 - 42\n",
      "cols: 0 - 33\n"
     ]
    },
    {
     "data": {
      "image/png": "[encoded data removed]"
     },
     "output_type": "display_data",
     "metadata": {}
    },
    {
     "name": "stdout",
     "output_type": "stream",
     "text": [
      "best match: 84%\n",
      "templateName: templates/time/4_02.jpg\n",
      "rows: 0 - 42\n",
      "cols: 0 - 33\n"
     ]
    }
   ],
   "source": [
    "time_templates = search_for_templates(\"time\")\n",
    "top = obj[:staff_height/2]\n",
    "display_image(top)\n",
    "\n",
    "templates = {}\n",
    "for templateName in time_templates:\n",
    "    template = load_image(templateName)\n",
    "    template = resize_image(template,len(top[0]),len(top))\n",
    "    template = image_gray(template)\n",
    "    template = image_bin_otsu(template)\n",
    "    template = invert(template)\n",
    "    templates[templateName] = template\n",
    "    \n",
    "match_object(top, templates)\n",
    "\n",
    "bot = obj[staff_height/2:]\n",
    "display_image(bot)\n",
    "\n",
    "templates = {}\n",
    "for templateName in time_templates:\n",
    "    template = load_image(templateName)\n",
    "    template = resize_image(template,len(bot[0]),len(bot))\n",
    "    template = image_gray(template)\n",
    "    template = image_bin_otsu(template)\n",
    "    template = invert(template)\n",
    "    templates[templateName] = template\n",
    "    \n",
    "match_object(bot, templates)"
   ]
  },
  {
   "cell_type": "markdown",
   "metadata": {},
   "source": [
    "2-digit numbers may also be recognized sometimes as one, sometimes as two regions."
   ]
  },
  {
   "cell_type": "markdown",
   "metadata": {},
   "source": [
    "You can't split them if they are recognized as one, but you can make 2 digit templates."
   ]
  },
  {
   "cell_type": "markdown",
   "metadata": {},
   "source": [
    "If they are recognized as separate regions you can analyze if the second region is close enough to the first one to be classified as a digit."
   ]
  },
  {
   "cell_type": "markdown",
   "metadata": {},
   "source": [
    "## Bar lines\n",
    "Bar lines are pretty easy. You check if their heights are nearly equal to the staff heights. Don't even need to template match them, but you can if you want to. They should be searched for after all other vertical objects were recognized."
   ]
  },
  {
   "cell_type": "markdown",
   "metadata": {},
   "source": [
    "## Accidentals"
   ]
  },
  {
   "cell_type": "code",
   "execution_count": 11,
   "metadata": {},
   "outputs": [
    {
     "data": {
      "image/png": "[encoded data removed]"
     },
     "output_type": "display_data",
     "metadata": {}
    }
   ],
   "source": [
    "org_image = load_image(\"test_images/accidentals.jpg\")\n",
    "img_gray = image_gray(org_image)\n",
    "img_otsu = image_bin_otsu(img_gray)\n",
    "inv_img = invert(img_otsu)\n",
    "img_wo_lines = remove_lines(inv_img)\n",
    "display_image(img_wo_lines)\n",
    "lines, distances, staff_spacing = find_lines(inv_img)"
   ]
  },
  {
   "cell_type": "code",
   "execution_count": 12,
   "metadata": {},
   "outputs": [
    {
     "data": {
      "image/png": "[encoded data removed]"
     },
     "output_type": "display_data",
     "metadata": {}
    }
   ],
   "source": [
    "img_vert_lines = find_vertical_lines(inv_img)\n",
    "display_image(img_vert_lines)"
   ]
  },
  {
   "cell_type": "code",
   "execution_count": 13,
   "metadata": {},
   "outputs": [
    {
     "data": {
      "image/png": "[encoded data removed]"
     },
     "output_type": "display_data",
     "metadata": {}
    },
    {
     "name": "stdout",
     "output_type": "stream",
     "text": [
      "Number of recognized objects: 11\n"
     ]
    }
   ],
   "source": [
    "img_vert_objects, regions = find_vertical_objects(img_wo_lines, img_vert_lines)\n",
    "display_image(img_vert_objects)\n",
    "print(\"Number of recognized objects: %s\" % len(regions))"
   ]
  },
  {
   "cell_type": "code",
   "execution_count": 16,
   "metadata": {},
   "outputs": [
    {
     "data": {
      "image/png": "[encoded data removed]"
     },
     "output_type": "display_data",
     "metadata": {}
    },
    {
     "name": "stdout",
     "output_type": "stream",
     "text": [
      "Best match: 84%\n",
      "Template name: templates/clefs/g_clef_07.jpg\n"
     ]
    },
    {
     "data": {
      "image/png": "[encoded data removed]"
     },
     "output_type": "display_data",
     "metadata": {}
    },
    {
     "name": "stdout",
     "output_type": "stream",
     "text": [
      "10\n"
     ]
    }
   ],
   "source": [
    "clef_templates = search_for_templates(\"clefs\")\n",
    "most_left_region = regions[0]\n",
    "min_col = len(img_vert_objects[0])\n",
    "for region in regions:\n",
    "    min_candidate = min([c for r,c in region])\n",
    "    if min_candidate < min_col:\n",
    "        min_col = min_candidate\n",
    "        most_left_region = region\n",
    "\n",
    "objects = split_image(img_wo_lines, [most_left_region])\n",
    "for obj in objects:\n",
    "    display_image(obj)\n",
    "    best_match = match_object_with_size(obj, clef_templates)\n",
    "    \n",
    "if best_match[1] > 0.75: \n",
    "    for r,c in most_left_region:\n",
    "        img_vert_objects[r][c] = 0\n",
    "    display_image(img_vert_objects)\n",
    "    regions.remove(most_left_region)\n",
    "    print(len(regions))"
   ]
  },
  {
   "cell_type": "code",
   "execution_count": 25,
   "metadata": {},
   "outputs": [
    {
     "name": "stdout",
     "output_type": "stream",
     "text": [
      "Searching for templates\n",
      "Creating template images resized\n",
      "Create sub images of staff for each spacing and line\n",
      "Above Line 1\n"
     ]
    },
    {
     "data": {
      "image/png": "[encoded data removed]"
     },
     "output_type": "display_data",
     "metadata": {}
    },
    {
     "name": "stdout",
     "output_type": "stream",
     "text": [
      "On Line 1\n"
     ]
    },
    {
     "data": {
      "image/png": "[encoded data removed]"
     },
     "output_type": "display_data",
     "metadata": {}
    },
    {
     "name": "stdout",
     "output_type": "stream",
     "text": [
      "NO MATCH!\n",
      "NO MATCH!\n",
      "NO MATCH!\n",
      "NO MATCH!\n",
      "NO MATCH!\n",
      "NO MATCH!\n",
      "Below Line 1\n"
     ]
    },
    {
     "data": {
      "image/png": "[encoded data removed]"
     },
     "output_type": "display_data",
     "metadata": {}
    },
    {
     "name": "stdout",
     "output_type": "stream",
     "text": [
      "NO MATCH!\n",
      "NO MATCH!\n",
      "NO MATCH!\n",
      "NO MATCH!\n",
      "NO MATCH!\n",
      "On Line 2\n"
     ]
    },
    {
     "data": {
      "image/png": "[encoded data removed]"
     },
     "output_type": "display_data",
     "metadata": {}
    },
    {
     "name": "stdout",
     "output_type": "stream",
     "text": [
      "NO MATCH!\n",
      "NO MATCH!\n",
      "NO MATCH!\n",
      "NO MATCH!\n",
      "NO MATCH!\n",
      "NO MATCH!\n",
      "NO MATCH!\n",
      "NO MATCH!\n",
      "NO MATCH!\n",
      "NO MATCH!\n",
      "Below Line 2\n"
     ]
    },
    {
     "data": {
      "image/png": "[encoded data removed]"
     },
     "output_type": "display_data",
     "metadata": {}
    },
    {
     "name": "stdout",
     "output_type": "stream",
     "text": [
      "NO MATCH!\n",
      "best match: 85%\n",
      "templateName: templates/note_heads/filled_06.jpg\n",
      "rows: 0 - 9\n",
      "cols: 1 - 10\n",
      "NO MATCH!\n",
      "best match: 85%\n",
      "templateName: templates/note_heads/filled_06.jpg\n",
      "rows: 0 - 9\n",
      "cols: 1 - 10\n",
      "NO MATCH!\n",
      "NO MATCH!\n",
      "NO MATCH!\n",
      "NO MATCH!\n",
      "NO MATCH!\n",
      "NO MATCH!\n",
      "On Line 3\n"
     ]
    },
    {
     "data": {
      "image/png": "[encoded data removed]"
     },
     "output_type": "display_data",
     "metadata": {}
    },
    {
     "name": "stdout",
     "output_type": "stream",
     "text": [
      "NO MATCH!\n",
      "best match: 82%\n",
      "templateName: templates/note_heads/filled_07.jpg\n",
      "rows: 0 - 9\n",
      "cols: 0 - 9\n",
      "NO MATCH!\n",
      "best match: 82%\n",
      "templateName: templates/note_heads/filled_07.jpg\n",
      "rows: 0 - 9\n",
      "cols: 0 - 9\n",
      "NO MATCH!\n",
      "NO MATCH!\n",
      "NO MATCH!\n",
      "best match: 91%\n",
      "templateName: templates/note_heads/filled_01.jpg\n",
      "rows: 0 - 9\n",
      "cols: 1 - 10\n",
      "best match: 91%\n",
      "templateName: templates/note_heads/filled_01.jpg\n",
      "rows: 0 - 9\n",
      "cols: 1 - 10\n",
      "best match: 91%\n",
      "templateName: templates/note_heads/filled_01.jpg\n",
      "rows: 0 - 9\n",
      "cols: 1 - 10\n",
      "Below Line 3\n"
     ]
    },
    {
     "data": {
      "image/png": "[encoded data removed]"
     },
     "output_type": "display_data",
     "metadata": {}
    },
    {
     "name": "stdout",
     "output_type": "stream",
     "text": [
      "NO MATCH!\n",
      "NO MATCH!\n",
      "NO MATCH!\n",
      "best match: 59%\n",
      "templateName: templates/note_heads/filled_07.jpg\n",
      "rows: 0 - 9\n",
      "cols: 0 - 9\n",
      "NO MATCH!\n",
      "NO MATCH!\n",
      "NO MATCH!\n",
      "best match: 59%\n",
      "templateName: templates/note_heads/filled_07.jpg\n",
      "rows: 0 - 9\n",
      "cols: 0 - 9\n",
      "NO MATCH!\n",
      "best match: 59%\n",
      "templateName: templates/note_heads/filled_07.jpg\n",
      "rows: 0 - 9\n",
      "cols: 0 - 9\n",
      "On Line 4\n"
     ]
    },
    {
     "data": {
      "image/png": "[encoded data removed]"
     },
     "output_type": "display_data",
     "metadata": {}
    },
    {
     "name": "stdout",
     "output_type": "stream",
     "text": [
      "NO MATCH!\n",
      "NO MATCH!\n",
      "NO MATCH!\n",
      "NO MATCH!\n",
      "NO MATCH!\n",
      "NO MATCH!\n",
      "NO MATCH!\n",
      "NO MATCH!\n",
      "NO MATCH!\n",
      "NO MATCH!\n",
      "NO MATCH!\n",
      "NO MATCH!\n",
      "Below Line 4\n"
     ]
    },
    {
     "data": {
      "image/png": "[encoded data removed]"
     },
     "output_type": "display_data",
     "metadata": {}
    },
    {
     "name": "stdout",
     "output_type": "stream",
     "text": [
      "NO MATCH!\n",
      "NO MATCH!\n",
      "NO MATCH!\n",
      "NO MATCH!\n",
      "NO MATCH!\n",
      "NO MATCH!\n",
      "NO MATCH!\n",
      "On Line 5\n"
     ]
    },
    {
     "data": {
      "image/png": "[encoded data removed]"
     },
     "output_type": "display_data",
     "metadata": {}
    },
    {
     "name": "stdout",
     "output_type": "stream",
     "text": [
      "NO MATCH!\n",
      "NO MATCH!\n",
      "NO MATCH!\n",
      "NO MATCH!\n",
      "NO MATCH!\n",
      "Below Line 5\n"
     ]
    },
    {
     "data": {
      "image/png": "[encoded data removed]"
     },
     "output_type": "display_data",
     "metadata": {}
    },
    {
     "name": "stdout",
     "output_type": "stream",
     "text": [
      "NO MATCH!\n",
      "NO MATCH!\n",
      "NO MATCH!\n",
      "NO MATCH!\n",
      "NO MATCH!\n"
     ]
    }
   ],
   "source": [
    "print(\"Searching for templates\")\n",
    "note_head_templates = search_for_templates(\"note_heads/filled\")\n",
    "\n",
    "print(\"Creating template images resized\")\n",
    "templates = {}\n",
    "for templateName in note_head_templates:\n",
    "    template = load_image(templateName)\n",
    "    template = resize_image(template,staff_spacing,staff_spacing)\n",
    "    template = image_gray(template)\n",
    "    template = image_bin_otsu(template)\n",
    "    template = invert(template)\n",
    "    templates[templateName] = template\n",
    "\n",
    "print(\"Create sub images of staff for each spacing and line\")\n",
    "two_thirds_spacing = round(staff_spacing * 2. / 3)\n",
    "from collections import OrderedDict\n",
    "sub_images = OrderedDict()\n",
    "for i in range(len(lines)):\n",
    "    if i == 0:\n",
    "        sub_images[\"Above Line %s\" % (i + 1)] = img_vert_objects[lines[i][0] - int(staff_spacing) - len(lines[i]) : lines[i][-1]]\n",
    "    sub_images[\"On Line %s\" % (i + 1)] = img_vert_objects[lines[i][0] -  int (two_thirds_spacing) : lines[i][-1] + int(two_thirds_spacing)]\n",
    "    if i + 1 < len(lines):\n",
    "        sub_images[\"Below Line %s\" % (i + 1)] = img_vert_objects[lines[i][0] : lines[i + 1][-1]]\n",
    "    else:\n",
    "        sub_images[\"Below Line %s\" % (i + 1)] = img_vert_objects[lines[i][0] : lines[i][-1] + int(staff_spacing) + len(lines[i])]\n",
    "\n",
    "for key, sub_image in sub_images.items():\n",
    "    print(key)\n",
    "    display_image(sub_image)\n",
    "    img, regions = find_regions(sub_image)\n",
    "    objects = split_image(img, regions)\n",
    "    best_filled_index = -1\n",
    "    best_match_filled = 0\n",
    "    for i in range(len(objects)):\n",
    "        obj = objects[i]\n",
    "        best_match = match_object(obj, templates)\n",
    "        if best_match[0] is not None:\n",
    "            if best_match[2] > best_match_filled:\n",
    "                best_match_filled = best_match[2]\n",
    "                best_filled_index = i"
   ]
  },
  {
   "cell_type": "code",
   "execution_count": null,
   "metadata": {},
   "outputs": [],
   "source": [
    "accidentals_templates = search_for_templates(\"accidentals\")\n",
    "objects = split_image(img_wo_lines, regions)\n",
    "for i in range(len(objects)):\n",
    "    obj = objects[i]\n",
    "    region = regions[i]\n",
    "    display_image(obj)\n",
    "    print(region[0])\n",
    "    print(region[-1])\n",
    "    match_object_with_size(obj, accidentals_templates)"
   ]
  },
  {
   "cell_type": "markdown",
   "metadata": {},
   "source": [
    "As we can see, if the regions are broken it's a bit harder to recognize all accidentals, especially flats. However, we modified region finding functions so that they can look up to 2 pixel distances."
   ]
  },
  {
   "cell_type": "code",
   "execution_count": null,
   "metadata": {},
   "outputs": [],
   "source": [
    "img_vert_objects, regions = find_vertical_objects(img_wo_lines, img_vert_lines, diff = 3)\n",
    "display_image(img_vert_objects)\n",
    "print(\"Number of recognized objects: %s\" % len(regions))"
   ]
  },
  {
   "cell_type": "code",
   "execution_count": null,
   "metadata": {},
   "outputs": [],
   "source": [
    "objects = split_image(img_wo_lines, regions)\n",
    "for i in range(len(objects)):\n",
    "    obj = objects[i]\n",
    "    region = regions[i]\n",
    "    display_image(obj)\n",
    "    print(region[0])\n",
    "    print(region[-1])\n",
    "    match_object_with_size(obj, accidentals_templates)"
   ]
  },
  {
   "cell_type": "markdown",
   "metadata": {},
   "source": [
    "## Rests"
   ]
  },
  {
   "cell_type": "markdown",
   "metadata": {},
   "source": [
    "## Flags"
   ]
  },
  {
   "cell_type": "code",
   "execution_count": null,
   "metadata": {},
   "outputs": [],
   "source": [
    ""
   ]
  }
 ],
 "metadata": {
  "kernelspec": {
   "display_name": "Python 2",
   "language": "python",
   "name": "python2"
  },
  "language_info": {
   "codemirror_mode": {
    "name": "ipython",
    "version": 2.0
   },
   "file_extension": ".py",
   "mimetype": "text/x-python",
   "name": "python",
   "nbconvert_exporter": "python",
   "pygments_lexer": "ipython2",
   "version": "2.7.11"
  }
 },
 "nbformat": 4,
 "nbformat_minor": 0
}