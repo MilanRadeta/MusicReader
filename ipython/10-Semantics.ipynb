{
 "cells": [
  {
   "cell_type": "markdown",
   "metadata": {},
   "source": [
    "# Semantics"
   ]
  },
  {
   "cell_type": "markdown",
   "metadata": {},
   "source": [
    "When finished recognizing the musical primitives and remembering their position, it's time to analyze their positions in relation to each other. This will be important for making the MusicXML."
   ]
  },
  {
   "cell_type": "markdown",
   "metadata": {},
   "source": [
    "## Clefs"
   ]
  },
  {
   "cell_type": "markdown",
   "metadata": {},
   "source": [
    "Clefs are located either at the beginning of the staff or after a bar line. Their types and vertical positions determine the pitches of notes, based on which line or between which lines they are sitting. <br> <img src=\"clefs.jpg\" />"
   ]
  },
  {
   "cell_type": "markdown",
   "metadata": {},
   "source": [
    "## Accidentals"
   ]
  },
  {
   "cell_type": "markdown",
   "metadata": {},
   "source": [
    "Accidentals are located either after a clef, a time signature or after a bar line if there's no clef after that bar line, when they are used to determine the key of a song. They increase (sharps) or decrease (flats) the pitch of all notes on the lines or spacings accidentals are located."
   ]
  },
  {
   "cell_type": "markdown",
   "metadata": {},
   "source": [
    "Accidentals can also be located on the left side of a note head. In that case they increase (sharps), decrease (flats) or normalize (naturals) the pitch of that particular note."
   ]
  },
  {
   "cell_type": "markdown",
   "metadata": {},
   "source": [
    "## Time signatures\n",
    "Time signatures are located after a clef, after accidentals at the begining of a bar, or after the bar line if there's no clef after it."
   ]
  },
  {
   "cell_type": "markdown",
   "metadata": {},
   "source": [
    "## Note heads\n",
    "Note heads' vertical positions (which line or spacing they are located on/in) determine their pitches, along with clefs and accidentals."
   ]
  },
  {
   "cell_type": "markdown",
   "metadata": {},
   "source": [
    "Type of note heads also determine their duration, along with their note stems or the lack of them, flags or beams and duration dots. If they are filled, they must have a note stem and can be quarter notes or less. If they are empty they can be half notes if they have stems, or whole notes if they don't. Duration dot next to the note heads extend their duration by half of their duration."
   ]
  },
  {
   "cell_type": "markdown",
   "metadata": {},
   "source": [
    "## Flags and beams\n",
    "Each flag or beam on the stem halves the duration of the (quarter) note."
   ]
  },
  {
   "cell_type": "markdown",
   "metadata": {},
   "source": [
    "## Duration dots\n",
    "Each duration dot next to the note head increases that note's duration by one half of its current duration. Duration dots are located on the right of a note head or another duration dot."
   ]
  },
  {
   "cell_type": "code",
   "execution_count": null,
   "metadata": {},
   "outputs": [],
   "source": [
    ""
   ]
  }
 ],
 "metadata": {
  "kernelspec": {
   "display_name": "Python 2",
   "language": "python",
   "name": "python2"
  },
  "language_info": {
   "codemirror_mode": {
    "name": "ipython",
    "version": 2.0
   },
   "file_extension": ".py",
   "mimetype": "text/x-python",
   "name": "python",
   "nbconvert_exporter": "python",
   "pygments_lexer": "ipython2",
   "version": "2.7.11"
  }
 },
 "nbformat": 4,
 "nbformat_minor": 0
}